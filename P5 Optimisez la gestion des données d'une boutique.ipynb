{
 "cells": [
  {
   "cell_type": "markdown",
   "id": "e7cf42cd",
   "metadata": {},
   "source": [
    "**Optimisez la gestion des données de la boutique en ligne Bottleneck avec Python**"
   ]
  },
  {
   "cell_type": "code",
   "execution_count": 1,
   "id": "3a730f92",
   "metadata": {},
   "outputs": [],
   "source": [
    "import pandas as pd\n",
    "import numpy as np\n",
    "import matplotlib.pyplot as plt\n",
    "import seaborn as sns"
   ]
  },
  {
   "cell_type": "markdown",
   "id": "0406d807",
   "metadata": {},
   "source": [
    "**1. Rapprochement des fichiers ERP et WEB dans un seul fichier**"
   ]
  },
  {
   "cell_type": "markdown",
   "id": "8f5cd1be",
   "metadata": {},
   "source": [
    "+ Je commence par importer les différents fichiers dans mon Notebook."
   ]
  },
  {
   "cell_type": "code",
   "execution_count": 2,
   "id": "6ae7ab98",
   "metadata": {},
   "outputs": [
    {
     "data": {
      "text/html": [
       "<div>\n",
       "<style scoped>\n",
       "    .dataframe tbody tr th:only-of-type {\n",
       "        vertical-align: middle;\n",
       "    }\n",
       "\n",
       "    .dataframe tbody tr th {\n",
       "        vertical-align: top;\n",
       "    }\n",
       "\n",
       "    .dataframe thead th {\n",
       "        text-align: right;\n",
       "    }\n",
       "</style>\n",
       "<table border=\"1\" class=\"dataframe\">\n",
       "  <thead>\n",
       "    <tr style=\"text-align: right;\">\n",
       "      <th></th>\n",
       "      <th>product_id</th>\n",
       "      <th>onsale_web</th>\n",
       "      <th>price</th>\n",
       "      <th>stock_quantity</th>\n",
       "      <th>stock_status</th>\n",
       "    </tr>\n",
       "  </thead>\n",
       "  <tbody>\n",
       "    <tr>\n",
       "      <th>0</th>\n",
       "      <td>7338</td>\n",
       "      <td>1</td>\n",
       "      <td>16.3</td>\n",
       "      <td>45</td>\n",
       "      <td>instock</td>\n",
       "    </tr>\n",
       "    <tr>\n",
       "      <th>1</th>\n",
       "      <td>7329</td>\n",
       "      <td>0</td>\n",
       "      <td>26.5</td>\n",
       "      <td>14</td>\n",
       "      <td>instock</td>\n",
       "    </tr>\n",
       "    <tr>\n",
       "      <th>2</th>\n",
       "      <td>7247</td>\n",
       "      <td>1</td>\n",
       "      <td>54.8</td>\n",
       "      <td>23</td>\n",
       "      <td>instock</td>\n",
       "    </tr>\n",
       "    <tr>\n",
       "      <th>3</th>\n",
       "      <td>7204</td>\n",
       "      <td>0</td>\n",
       "      <td>45.0</td>\n",
       "      <td>9</td>\n",
       "      <td>instock</td>\n",
       "    </tr>\n",
       "    <tr>\n",
       "      <th>4</th>\n",
       "      <td>7203</td>\n",
       "      <td>0</td>\n",
       "      <td>45.0</td>\n",
       "      <td>30</td>\n",
       "      <td>instock</td>\n",
       "    </tr>\n",
       "  </tbody>\n",
       "</table>\n",
       "</div>"
      ],
      "text/plain": [
       "   product_id  onsale_web  price  stock_quantity stock_status\n",
       "0        7338           1   16.3              45      instock\n",
       "1        7329           0   26.5              14      instock\n",
       "2        7247           1   54.8              23      instock\n",
       "3        7204           0   45.0               9      instock\n",
       "4        7203           0   45.0              30      instock"
      ]
     },
     "execution_count": 2,
     "metadata": {},
     "output_type": "execute_result"
    }
   ],
   "source": [
    "erp = pd.read_csv('erp.csv')\n",
    "erp.head()"
   ]
  },
  {
   "cell_type": "code",
   "execution_count": 3,
   "id": "6527bfa3",
   "metadata": {},
   "outputs": [
    {
     "data": {
      "text/plain": [
       "(825, 5)"
      ]
     },
     "execution_count": 3,
     "metadata": {},
     "output_type": "execute_result"
    }
   ],
   "source": [
    "# Je vérifie la taille de mon dataframe\n",
    "\n",
    "erp.shape"
   ]
  },
  {
   "cell_type": "code",
   "execution_count": 4,
   "id": "e559314f",
   "metadata": {},
   "outputs": [
    {
     "data": {
      "text/html": [
       "<div>\n",
       "<style scoped>\n",
       "    .dataframe tbody tr th:only-of-type {\n",
       "        vertical-align: middle;\n",
       "    }\n",
       "\n",
       "    .dataframe tbody tr th {\n",
       "        vertical-align: top;\n",
       "    }\n",
       "\n",
       "    .dataframe thead th {\n",
       "        text-align: right;\n",
       "    }\n",
       "</style>\n",
       "<table border=\"1\" class=\"dataframe\">\n",
       "  <thead>\n",
       "    <tr style=\"text-align: right;\">\n",
       "      <th></th>\n",
       "      <th>sku</th>\n",
       "      <th>virtual</th>\n",
       "      <th>downloadable</th>\n",
       "      <th>rating_count</th>\n",
       "      <th>average_rating</th>\n",
       "      <th>total_sales</th>\n",
       "      <th>tax_status</th>\n",
       "      <th>tax_class</th>\n",
       "      <th>post_author</th>\n",
       "      <th>post_date</th>\n",
       "      <th>...</th>\n",
       "      <th>post_name</th>\n",
       "      <th>post_modified</th>\n",
       "      <th>post_modified_gmt</th>\n",
       "      <th>post_content_filtered</th>\n",
       "      <th>post_parent</th>\n",
       "      <th>guid</th>\n",
       "      <th>menu_order</th>\n",
       "      <th>post_type</th>\n",
       "      <th>post_mime_type</th>\n",
       "      <th>comment_count</th>\n",
       "    </tr>\n",
       "  </thead>\n",
       "  <tbody>\n",
       "    <tr>\n",
       "      <th>0</th>\n",
       "      <td>bon-cadeau-25-euros</td>\n",
       "      <td>0</td>\n",
       "      <td>0</td>\n",
       "      <td>0</td>\n",
       "      <td>0.0</td>\n",
       "      <td>10.0</td>\n",
       "      <td>taxable</td>\n",
       "      <td>NaN</td>\n",
       "      <td>1.0</td>\n",
       "      <td>2018-06-01 13:53:46</td>\n",
       "      <td>...</td>\n",
       "      <td>bon-cadeau-de-25-euros</td>\n",
       "      <td>2018-06-01 14:13:57</td>\n",
       "      <td>2018-06-01 12:13:57</td>\n",
       "      <td>NaN</td>\n",
       "      <td>0.0</td>\n",
       "      <td>https://www.bottle-neck.fr/?post_type=product&amp;...</td>\n",
       "      <td>0.0</td>\n",
       "      <td>product</td>\n",
       "      <td>NaN</td>\n",
       "      <td>0.0</td>\n",
       "    </tr>\n",
       "    <tr>\n",
       "      <th>1</th>\n",
       "      <td>15298</td>\n",
       "      <td>0</td>\n",
       "      <td>0</td>\n",
       "      <td>0</td>\n",
       "      <td>0.0</td>\n",
       "      <td>6.0</td>\n",
       "      <td>taxable</td>\n",
       "      <td>NaN</td>\n",
       "      <td>2.0</td>\n",
       "      <td>2018-02-08 12:58:52</td>\n",
       "      <td>...</td>\n",
       "      <td>pierre-jean-villa-saint-joseph-preface-2018</td>\n",
       "      <td>2019-12-30 09:30:29</td>\n",
       "      <td>2019-12-30 08:30:29</td>\n",
       "      <td>NaN</td>\n",
       "      <td>0.0</td>\n",
       "      <td>https://www.bottle-neck.fr/?post_type=product&amp;...</td>\n",
       "      <td>0.0</td>\n",
       "      <td>product</td>\n",
       "      <td>NaN</td>\n",
       "      <td>0.0</td>\n",
       "    </tr>\n",
       "    <tr>\n",
       "      <th>2</th>\n",
       "      <td>15296</td>\n",
       "      <td>0</td>\n",
       "      <td>0</td>\n",
       "      <td>0</td>\n",
       "      <td>0.0</td>\n",
       "      <td>0.0</td>\n",
       "      <td>taxable</td>\n",
       "      <td>NaN</td>\n",
       "      <td>2.0</td>\n",
       "      <td>2018-02-08 13:49:41</td>\n",
       "      <td>...</td>\n",
       "      <td>pierre-jean-villa-saint-joseph-tilde-2017</td>\n",
       "      <td>2019-12-21 09:00:17</td>\n",
       "      <td>2019-12-21 08:00:17</td>\n",
       "      <td>NaN</td>\n",
       "      <td>0.0</td>\n",
       "      <td>https://www.bottle-neck.fr/?post_type=product&amp;...</td>\n",
       "      <td>0.0</td>\n",
       "      <td>product</td>\n",
       "      <td>NaN</td>\n",
       "      <td>0.0</td>\n",
       "    </tr>\n",
       "    <tr>\n",
       "      <th>3</th>\n",
       "      <td>15300</td>\n",
       "      <td>0</td>\n",
       "      <td>0</td>\n",
       "      <td>0</td>\n",
       "      <td>0.0</td>\n",
       "      <td>0.0</td>\n",
       "      <td>taxable</td>\n",
       "      <td>NaN</td>\n",
       "      <td>2.0</td>\n",
       "      <td>2018-02-08 14:08:36</td>\n",
       "      <td>...</td>\n",
       "      <td>pierre-jean-villa-croze-hermitage-accroche-coe...</td>\n",
       "      <td>2020-06-26 18:15:03</td>\n",
       "      <td>2020-06-26 16:15:03</td>\n",
       "      <td>NaN</td>\n",
       "      <td>0.0</td>\n",
       "      <td>https://www.bottle-neck.fr/?post_type=product&amp;...</td>\n",
       "      <td>0.0</td>\n",
       "      <td>product</td>\n",
       "      <td>NaN</td>\n",
       "      <td>0.0</td>\n",
       "    </tr>\n",
       "    <tr>\n",
       "      <th>4</th>\n",
       "      <td>19814</td>\n",
       "      <td>0</td>\n",
       "      <td>0</td>\n",
       "      <td>0</td>\n",
       "      <td>0.0</td>\n",
       "      <td>3.0</td>\n",
       "      <td>taxable</td>\n",
       "      <td>NaN</td>\n",
       "      <td>2.0</td>\n",
       "      <td>2018-02-09 14:01:05</td>\n",
       "      <td>...</td>\n",
       "      <td>pierre-jean-villa-igp-gamine-2018</td>\n",
       "      <td>2020-01-04 16:36:01</td>\n",
       "      <td>2020-01-04 15:36:01</td>\n",
       "      <td>NaN</td>\n",
       "      <td>0.0</td>\n",
       "      <td>https://www.bottle-neck.fr/?post_type=product&amp;...</td>\n",
       "      <td>0.0</td>\n",
       "      <td>product</td>\n",
       "      <td>NaN</td>\n",
       "      <td>0.0</td>\n",
       "    </tr>\n",
       "  </tbody>\n",
       "</table>\n",
       "<p>5 rows × 28 columns</p>\n",
       "</div>"
      ],
      "text/plain": [
       "                   sku  virtual  downloadable  rating_count  average_rating  \\\n",
       "0  bon-cadeau-25-euros        0             0             0             0.0   \n",
       "1                15298        0             0             0             0.0   \n",
       "2                15296        0             0             0             0.0   \n",
       "3                15300        0             0             0             0.0   \n",
       "4                19814        0             0             0             0.0   \n",
       "\n",
       "   total_sales tax_status  tax_class  post_author           post_date  ...  \\\n",
       "0         10.0    taxable        NaN          1.0 2018-06-01 13:53:46  ...   \n",
       "1          6.0    taxable        NaN          2.0 2018-02-08 12:58:52  ...   \n",
       "2          0.0    taxable        NaN          2.0 2018-02-08 13:49:41  ...   \n",
       "3          0.0    taxable        NaN          2.0 2018-02-08 14:08:36  ...   \n",
       "4          3.0    taxable        NaN          2.0 2018-02-09 14:01:05  ...   \n",
       "\n",
       "                                           post_name       post_modified  \\\n",
       "0                             bon-cadeau-de-25-euros 2018-06-01 14:13:57   \n",
       "1        pierre-jean-villa-saint-joseph-preface-2018 2019-12-30 09:30:29   \n",
       "2          pierre-jean-villa-saint-joseph-tilde-2017 2019-12-21 09:00:17   \n",
       "3  pierre-jean-villa-croze-hermitage-accroche-coe... 2020-06-26 18:15:03   \n",
       "4                  pierre-jean-villa-igp-gamine-2018 2020-01-04 16:36:01   \n",
       "\n",
       "    post_modified_gmt post_content_filtered post_parent  \\\n",
       "0 2018-06-01 12:13:57                   NaN         0.0   \n",
       "1 2019-12-30 08:30:29                   NaN         0.0   \n",
       "2 2019-12-21 08:00:17                   NaN         0.0   \n",
       "3 2020-06-26 16:15:03                   NaN         0.0   \n",
       "4 2020-01-04 15:36:01                   NaN         0.0   \n",
       "\n",
       "                                                guid menu_order  post_type  \\\n",
       "0  https://www.bottle-neck.fr/?post_type=product&...        0.0    product   \n",
       "1  https://www.bottle-neck.fr/?post_type=product&...        0.0    product   \n",
       "2  https://www.bottle-neck.fr/?post_type=product&...        0.0    product   \n",
       "3  https://www.bottle-neck.fr/?post_type=product&...        0.0    product   \n",
       "4  https://www.bottle-neck.fr/?post_type=product&...        0.0    product   \n",
       "\n",
       "  post_mime_type comment_count  \n",
       "0            NaN           0.0  \n",
       "1            NaN           0.0  \n",
       "2            NaN           0.0  \n",
       "3            NaN           0.0  \n",
       "4            NaN           0.0  \n",
       "\n",
       "[5 rows x 28 columns]"
      ]
     },
     "execution_count": 4,
     "metadata": {},
     "output_type": "execute_result"
    }
   ],
   "source": [
    "import warnings\n",
    "warnings.filterwarnings('ignore')\n",
    "web = pd.read_excel('web.xlsx')\n",
    "web.head()"
   ]
  },
  {
   "cell_type": "code",
   "execution_count": 5,
   "id": "f48ae2d6",
   "metadata": {},
   "outputs": [
    {
     "data": {
      "text/plain": [
       "(1513, 28)"
      ]
     },
     "execution_count": 5,
     "metadata": {},
     "output_type": "execute_result"
    }
   ],
   "source": [
    "web.shape"
   ]
  },
  {
   "cell_type": "code",
   "execution_count": 6,
   "id": "3e7f85d4",
   "metadata": {},
   "outputs": [
    {
     "data": {
      "text/html": [
       "<div>\n",
       "<style scoped>\n",
       "    .dataframe tbody tr th:only-of-type {\n",
       "        vertical-align: middle;\n",
       "    }\n",
       "\n",
       "    .dataframe tbody tr th {\n",
       "        vertical-align: top;\n",
       "    }\n",
       "\n",
       "    .dataframe thead th {\n",
       "        text-align: right;\n",
       "    }\n",
       "</style>\n",
       "<table border=\"1\" class=\"dataframe\">\n",
       "  <thead>\n",
       "    <tr style=\"text-align: right;\">\n",
       "      <th></th>\n",
       "      <th>product_id</th>\n",
       "      <th>id_web</th>\n",
       "    </tr>\n",
       "  </thead>\n",
       "  <tbody>\n",
       "    <tr>\n",
       "      <th>0</th>\n",
       "      <td>3847</td>\n",
       "      <td>15298</td>\n",
       "    </tr>\n",
       "    <tr>\n",
       "      <th>1</th>\n",
       "      <td>3849</td>\n",
       "      <td>15296</td>\n",
       "    </tr>\n",
       "    <tr>\n",
       "      <th>2</th>\n",
       "      <td>3850</td>\n",
       "      <td>15300</td>\n",
       "    </tr>\n",
       "    <tr>\n",
       "      <th>3</th>\n",
       "      <td>4032</td>\n",
       "      <td>19814</td>\n",
       "    </tr>\n",
       "    <tr>\n",
       "      <th>4</th>\n",
       "      <td>4039</td>\n",
       "      <td>19815</td>\n",
       "    </tr>\n",
       "  </tbody>\n",
       "</table>\n",
       "</div>"
      ],
      "text/plain": [
       "   product_id id_web\n",
       "0        3847  15298\n",
       "1        3849  15296\n",
       "2        3850  15300\n",
       "3        4032  19814\n",
       "4        4039  19815"
      ]
     },
     "execution_count": 6,
     "metadata": {},
     "output_type": "execute_result"
    }
   ],
   "source": [
    "liaison = pd.read_csv('liaison.csv')\n",
    "liaison.head()"
   ]
  },
  {
   "cell_type": "code",
   "execution_count": 7,
   "id": "4fbd7942",
   "metadata": {},
   "outputs": [
    {
     "data": {
      "text/plain": [
       "(825, 2)"
      ]
     },
     "execution_count": 7,
     "metadata": {},
     "output_type": "execute_result"
    }
   ],
   "source": [
    "liaison.shape"
   ]
  },
  {
   "cell_type": "markdown",
   "id": "41c987ad",
   "metadata": {},
   "source": [
    "**Etape de nettoyage des fichiers**"
   ]
  },
  {
   "cell_type": "markdown",
   "id": "1b40b99c",
   "metadata": {},
   "source": [
    "+ J'affiche pour chaque fichier importé, le nombre de valeurs manquantes pour chacune des variables"
   ]
  },
  {
   "cell_type": "code",
   "execution_count": 8,
   "id": "cac02203",
   "metadata": {},
   "outputs": [
    {
     "data": {
      "text/plain": [
       "product_id        0\n",
       "onsale_web        0\n",
       "price             0\n",
       "stock_quantity    0\n",
       "stock_status      0\n",
       "dtype: int64"
      ]
     },
     "execution_count": 8,
     "metadata": {},
     "output_type": "execute_result"
    }
   ],
   "source": [
    "erp.isnull().sum()"
   ]
  },
  {
   "cell_type": "code",
   "execution_count": 9,
   "id": "ff4545f0",
   "metadata": {},
   "outputs": [
    {
     "data": {
      "text/plain": [
       "sku                        85\n",
       "virtual                     0\n",
       "downloadable                0\n",
       "rating_count                0\n",
       "average_rating             83\n",
       "total_sales                83\n",
       "tax_status                797\n",
       "tax_class                1513\n",
       "post_author                83\n",
       "post_date                  83\n",
       "post_date_gmt              83\n",
       "post_content             1513\n",
       "post_title                 83\n",
       "post_excerpt              797\n",
       "post_status                83\n",
       "comment_status             83\n",
       "ping_status                83\n",
       "post_password            1513\n",
       "post_name                  83\n",
       "post_modified              83\n",
       "post_modified_gmt          83\n",
       "post_content_filtered    1513\n",
       "post_parent                83\n",
       "guid                       83\n",
       "menu_order                 83\n",
       "post_type                  83\n",
       "post_mime_type            799\n",
       "comment_count              83\n",
       "dtype: int64"
      ]
     },
     "execution_count": 9,
     "metadata": {},
     "output_type": "execute_result"
    }
   ],
   "source": [
    "web.isnull().sum()"
   ]
  },
  {
   "cell_type": "code",
   "execution_count": 10,
   "id": "d6b23bf5",
   "metadata": {},
   "outputs": [
    {
     "data": {
      "text/plain": [
       "product_id     0\n",
       "id_web        91\n",
       "dtype: int64"
      ]
     },
     "execution_count": 10,
     "metadata": {},
     "output_type": "execute_result"
    }
   ],
   "source": [
    "liaison.isnull().sum()"
   ]
  },
  {
   "cell_type": "code",
   "execution_count": 11,
   "id": "c1a08473",
   "metadata": {},
   "outputs": [
    {
     "data": {
      "text/html": [
       "<div>\n",
       "<style scoped>\n",
       "    .dataframe tbody tr th:only-of-type {\n",
       "        vertical-align: middle;\n",
       "    }\n",
       "\n",
       "    .dataframe tbody tr th {\n",
       "        vertical-align: top;\n",
       "    }\n",
       "\n",
       "    .dataframe thead th {\n",
       "        text-align: right;\n",
       "    }\n",
       "</style>\n",
       "<table border=\"1\" class=\"dataframe\">\n",
       "  <thead>\n",
       "    <tr style=\"text-align: right;\">\n",
       "      <th></th>\n",
       "      <th>product_id</th>\n",
       "      <th>id_web</th>\n",
       "    </tr>\n",
       "  </thead>\n",
       "  <tbody>\n",
       "    <tr>\n",
       "      <th>0</th>\n",
       "      <td>3847</td>\n",
       "      <td>15298</td>\n",
       "    </tr>\n",
       "    <tr>\n",
       "      <th>1</th>\n",
       "      <td>3849</td>\n",
       "      <td>15296</td>\n",
       "    </tr>\n",
       "    <tr>\n",
       "      <th>2</th>\n",
       "      <td>3850</td>\n",
       "      <td>15300</td>\n",
       "    </tr>\n",
       "    <tr>\n",
       "      <th>3</th>\n",
       "      <td>4032</td>\n",
       "      <td>19814</td>\n",
       "    </tr>\n",
       "    <tr>\n",
       "      <th>4</th>\n",
       "      <td>4039</td>\n",
       "      <td>19815</td>\n",
       "    </tr>\n",
       "    <tr>\n",
       "      <th>...</th>\n",
       "      <td>...</td>\n",
       "      <td>...</td>\n",
       "    </tr>\n",
       "    <tr>\n",
       "      <th>792</th>\n",
       "      <td>7023</td>\n",
       "      <td>15891</td>\n",
       "    </tr>\n",
       "    <tr>\n",
       "      <th>793</th>\n",
       "      <td>7025</td>\n",
       "      <td>15887</td>\n",
       "    </tr>\n",
       "    <tr>\n",
       "      <th>822</th>\n",
       "      <td>7247</td>\n",
       "      <td>13127-1</td>\n",
       "    </tr>\n",
       "    <tr>\n",
       "      <th>823</th>\n",
       "      <td>7329</td>\n",
       "      <td>14680-1</td>\n",
       "    </tr>\n",
       "    <tr>\n",
       "      <th>824</th>\n",
       "      <td>7338</td>\n",
       "      <td>16230</td>\n",
       "    </tr>\n",
       "  </tbody>\n",
       "</table>\n",
       "<p>734 rows × 2 columns</p>\n",
       "</div>"
      ],
      "text/plain": [
       "     product_id   id_web\n",
       "0          3847    15298\n",
       "1          3849    15296\n",
       "2          3850    15300\n",
       "3          4032    19814\n",
       "4          4039    19815\n",
       "..          ...      ...\n",
       "792        7023    15891\n",
       "793        7025    15887\n",
       "822        7247  13127-1\n",
       "823        7329  14680-1\n",
       "824        7338    16230\n",
       "\n",
       "[734 rows x 2 columns]"
      ]
     },
     "execution_count": 11,
     "metadata": {},
     "output_type": "execute_result"
    }
   ],
   "source": [
    "# Je supprime les lignes du fichier liaison contenant des valeurs manquantes\n",
    "\n",
    "liaison = liaison.dropna()\n",
    "liaison"
   ]
  },
  {
   "cell_type": "markdown",
   "id": "1b2bb93b",
   "metadata": {},
   "source": [
    "+ Je vérifie le type de chaque variable pour chacun des fichiers"
   ]
  },
  {
   "cell_type": "code",
   "execution_count": 12,
   "id": "a877ce50",
   "metadata": {},
   "outputs": [
    {
     "data": {
      "text/plain": [
       "sku                              object\n",
       "virtual                           int64\n",
       "downloadable                      int64\n",
       "rating_count                      int64\n",
       "average_rating                  float64\n",
       "total_sales                     float64\n",
       "tax_status                       object\n",
       "tax_class                       float64\n",
       "post_author                     float64\n",
       "post_date                datetime64[ns]\n",
       "post_date_gmt            datetime64[ns]\n",
       "post_content                    float64\n",
       "post_title                       object\n",
       "post_excerpt                     object\n",
       "post_status                      object\n",
       "comment_status                   object\n",
       "ping_status                      object\n",
       "post_password                   float64\n",
       "post_name                        object\n",
       "post_modified            datetime64[ns]\n",
       "post_modified_gmt        datetime64[ns]\n",
       "post_content_filtered           float64\n",
       "post_parent                     float64\n",
       "guid                             object\n",
       "menu_order                      float64\n",
       "post_type                        object\n",
       "post_mime_type                   object\n",
       "comment_count                   float64\n",
       "dtype: object"
      ]
     },
     "execution_count": 12,
     "metadata": {},
     "output_type": "execute_result"
    }
   ],
   "source": [
    "web.dtypes"
   ]
  },
  {
   "cell_type": "code",
   "execution_count": 13,
   "id": "f0f999b8",
   "metadata": {},
   "outputs": [
    {
     "data": {
      "text/plain": [
       "product_id          int64\n",
       "onsale_web          int64\n",
       "price             float64\n",
       "stock_quantity      int64\n",
       "stock_status       object\n",
       "dtype: object"
      ]
     },
     "execution_count": 13,
     "metadata": {},
     "output_type": "execute_result"
    }
   ],
   "source": [
    "erp.dtypes"
   ]
  },
  {
   "cell_type": "code",
   "execution_count": 14,
   "id": "7537860a",
   "metadata": {},
   "outputs": [
    {
     "data": {
      "text/plain": [
       "product_id     int64\n",
       "id_web        object\n",
       "dtype: object"
      ]
     },
     "execution_count": 14,
     "metadata": {},
     "output_type": "execute_result"
    }
   ],
   "source": [
    "liaison.dtypes"
   ]
  },
  {
   "cell_type": "markdown",
   "id": "bc332949",
   "metadata": {},
   "source": [
    "+ Vérification des doublons"
   ]
  },
  {
   "cell_type": "code",
   "execution_count": 15,
   "id": "2f57bc3e",
   "metadata": {},
   "outputs": [
    {
     "data": {
      "text/html": [
       "<div>\n",
       "<style scoped>\n",
       "    .dataframe tbody tr th:only-of-type {\n",
       "        vertical-align: middle;\n",
       "    }\n",
       "\n",
       "    .dataframe tbody tr th {\n",
       "        vertical-align: top;\n",
       "    }\n",
       "\n",
       "    .dataframe thead th {\n",
       "        text-align: right;\n",
       "    }\n",
       "</style>\n",
       "<table border=\"1\" class=\"dataframe\">\n",
       "  <thead>\n",
       "    <tr style=\"text-align: right;\">\n",
       "      <th></th>\n",
       "      <th>product_id</th>\n",
       "      <th>onsale_web</th>\n",
       "      <th>price</th>\n",
       "      <th>stock_quantity</th>\n",
       "      <th>stock_status</th>\n",
       "    </tr>\n",
       "  </thead>\n",
       "  <tbody>\n",
       "  </tbody>\n",
       "</table>\n",
       "</div>"
      ],
      "text/plain": [
       "Empty DataFrame\n",
       "Columns: [product_id, onsale_web, price, stock_quantity, stock_status]\n",
       "Index: []"
      ]
     },
     "execution_count": 15,
     "metadata": {},
     "output_type": "execute_result"
    }
   ],
   "source": [
    "# Je vérifie si j'ai des doublons dans les fichier erp et liaison.  \n",
    "# J'utilise la variable 'product_id' qui servira de clé lors de ma jointure.\n",
    "\n",
    "erp.loc[erp['product_id'].duplicated(keep=False),:]"
   ]
  },
  {
   "cell_type": "code",
   "execution_count": 16,
   "id": "6f194431",
   "metadata": {},
   "outputs": [
    {
     "data": {
      "text/html": [
       "<div>\n",
       "<style scoped>\n",
       "    .dataframe tbody tr th:only-of-type {\n",
       "        vertical-align: middle;\n",
       "    }\n",
       "\n",
       "    .dataframe tbody tr th {\n",
       "        vertical-align: top;\n",
       "    }\n",
       "\n",
       "    .dataframe thead th {\n",
       "        text-align: right;\n",
       "    }\n",
       "</style>\n",
       "<table border=\"1\" class=\"dataframe\">\n",
       "  <thead>\n",
       "    <tr style=\"text-align: right;\">\n",
       "      <th></th>\n",
       "      <th>product_id</th>\n",
       "      <th>id_web</th>\n",
       "    </tr>\n",
       "  </thead>\n",
       "  <tbody>\n",
       "  </tbody>\n",
       "</table>\n",
       "</div>"
      ],
      "text/plain": [
       "Empty DataFrame\n",
       "Columns: [product_id, id_web]\n",
       "Index: []"
      ]
     },
     "execution_count": 16,
     "metadata": {},
     "output_type": "execute_result"
    }
   ],
   "source": [
    "liaison.loc[liaison.duplicated(keep=False),:]"
   ]
  },
  {
   "cell_type": "code",
   "execution_count": 17,
   "id": "49e36b99",
   "metadata": {},
   "outputs": [
    {
     "data": {
      "text/html": [
       "<div>\n",
       "<style scoped>\n",
       "    .dataframe tbody tr th:only-of-type {\n",
       "        vertical-align: middle;\n",
       "    }\n",
       "\n",
       "    .dataframe tbody tr th {\n",
       "        vertical-align: top;\n",
       "    }\n",
       "\n",
       "    .dataframe thead th {\n",
       "        text-align: right;\n",
       "    }\n",
       "</style>\n",
       "<table border=\"1\" class=\"dataframe\">\n",
       "  <thead>\n",
       "    <tr style=\"text-align: right;\">\n",
       "      <th></th>\n",
       "      <th>sku</th>\n",
       "      <th>virtual</th>\n",
       "      <th>downloadable</th>\n",
       "      <th>rating_count</th>\n",
       "      <th>average_rating</th>\n",
       "      <th>total_sales</th>\n",
       "      <th>tax_status</th>\n",
       "      <th>tax_class</th>\n",
       "      <th>post_author</th>\n",
       "      <th>post_date</th>\n",
       "      <th>...</th>\n",
       "      <th>post_name</th>\n",
       "      <th>post_modified</th>\n",
       "      <th>post_modified_gmt</th>\n",
       "      <th>post_content_filtered</th>\n",
       "      <th>post_parent</th>\n",
       "      <th>guid</th>\n",
       "      <th>menu_order</th>\n",
       "      <th>post_type</th>\n",
       "      <th>post_mime_type</th>\n",
       "      <th>comment_count</th>\n",
       "    </tr>\n",
       "  </thead>\n",
       "  <tbody>\n",
       "    <tr>\n",
       "      <th>0</th>\n",
       "      <td>bon-cadeau-25-euros</td>\n",
       "      <td>0</td>\n",
       "      <td>0</td>\n",
       "      <td>0</td>\n",
       "      <td>0.0</td>\n",
       "      <td>10.0</td>\n",
       "      <td>taxable</td>\n",
       "      <td>NaN</td>\n",
       "      <td>1.0</td>\n",
       "      <td>2018-06-01 13:53:46</td>\n",
       "      <td>...</td>\n",
       "      <td>bon-cadeau-de-25-euros</td>\n",
       "      <td>2018-06-01 14:13:57</td>\n",
       "      <td>2018-06-01 12:13:57</td>\n",
       "      <td>NaN</td>\n",
       "      <td>0.0</td>\n",
       "      <td>https://www.bottle-neck.fr/?post_type=product&amp;...</td>\n",
       "      <td>0.0</td>\n",
       "      <td>product</td>\n",
       "      <td>NaN</td>\n",
       "      <td>0.0</td>\n",
       "    </tr>\n",
       "    <tr>\n",
       "      <th>1</th>\n",
       "      <td>15298</td>\n",
       "      <td>0</td>\n",
       "      <td>0</td>\n",
       "      <td>0</td>\n",
       "      <td>0.0</td>\n",
       "      <td>6.0</td>\n",
       "      <td>taxable</td>\n",
       "      <td>NaN</td>\n",
       "      <td>2.0</td>\n",
       "      <td>2018-02-08 12:58:52</td>\n",
       "      <td>...</td>\n",
       "      <td>pierre-jean-villa-saint-joseph-preface-2018</td>\n",
       "      <td>2019-12-30 09:30:29</td>\n",
       "      <td>2019-12-30 08:30:29</td>\n",
       "      <td>NaN</td>\n",
       "      <td>0.0</td>\n",
       "      <td>https://www.bottle-neck.fr/?post_type=product&amp;...</td>\n",
       "      <td>0.0</td>\n",
       "      <td>product</td>\n",
       "      <td>NaN</td>\n",
       "      <td>0.0</td>\n",
       "    </tr>\n",
       "    <tr>\n",
       "      <th>2</th>\n",
       "      <td>15296</td>\n",
       "      <td>0</td>\n",
       "      <td>0</td>\n",
       "      <td>0</td>\n",
       "      <td>0.0</td>\n",
       "      <td>0.0</td>\n",
       "      <td>taxable</td>\n",
       "      <td>NaN</td>\n",
       "      <td>2.0</td>\n",
       "      <td>2018-02-08 13:49:41</td>\n",
       "      <td>...</td>\n",
       "      <td>pierre-jean-villa-saint-joseph-tilde-2017</td>\n",
       "      <td>2019-12-21 09:00:17</td>\n",
       "      <td>2019-12-21 08:00:17</td>\n",
       "      <td>NaN</td>\n",
       "      <td>0.0</td>\n",
       "      <td>https://www.bottle-neck.fr/?post_type=product&amp;...</td>\n",
       "      <td>0.0</td>\n",
       "      <td>product</td>\n",
       "      <td>NaN</td>\n",
       "      <td>0.0</td>\n",
       "    </tr>\n",
       "    <tr>\n",
       "      <th>3</th>\n",
       "      <td>15300</td>\n",
       "      <td>0</td>\n",
       "      <td>0</td>\n",
       "      <td>0</td>\n",
       "      <td>0.0</td>\n",
       "      <td>0.0</td>\n",
       "      <td>taxable</td>\n",
       "      <td>NaN</td>\n",
       "      <td>2.0</td>\n",
       "      <td>2018-02-08 14:08:36</td>\n",
       "      <td>...</td>\n",
       "      <td>pierre-jean-villa-croze-hermitage-accroche-coe...</td>\n",
       "      <td>2020-06-26 18:15:03</td>\n",
       "      <td>2020-06-26 16:15:03</td>\n",
       "      <td>NaN</td>\n",
       "      <td>0.0</td>\n",
       "      <td>https://www.bottle-neck.fr/?post_type=product&amp;...</td>\n",
       "      <td>0.0</td>\n",
       "      <td>product</td>\n",
       "      <td>NaN</td>\n",
       "      <td>0.0</td>\n",
       "    </tr>\n",
       "    <tr>\n",
       "      <th>4</th>\n",
       "      <td>19814</td>\n",
       "      <td>0</td>\n",
       "      <td>0</td>\n",
       "      <td>0</td>\n",
       "      <td>0.0</td>\n",
       "      <td>3.0</td>\n",
       "      <td>taxable</td>\n",
       "      <td>NaN</td>\n",
       "      <td>2.0</td>\n",
       "      <td>2018-02-09 14:01:05</td>\n",
       "      <td>...</td>\n",
       "      <td>pierre-jean-villa-igp-gamine-2018</td>\n",
       "      <td>2020-01-04 16:36:01</td>\n",
       "      <td>2020-01-04 15:36:01</td>\n",
       "      <td>NaN</td>\n",
       "      <td>0.0</td>\n",
       "      <td>https://www.bottle-neck.fr/?post_type=product&amp;...</td>\n",
       "      <td>0.0</td>\n",
       "      <td>product</td>\n",
       "      <td>NaN</td>\n",
       "      <td>0.0</td>\n",
       "    </tr>\n",
       "    <tr>\n",
       "      <th>...</th>\n",
       "      <td>...</td>\n",
       "      <td>...</td>\n",
       "      <td>...</td>\n",
       "      <td>...</td>\n",
       "      <td>...</td>\n",
       "      <td>...</td>\n",
       "      <td>...</td>\n",
       "      <td>...</td>\n",
       "      <td>...</td>\n",
       "      <td>...</td>\n",
       "      <td>...</td>\n",
       "      <td>...</td>\n",
       "      <td>...</td>\n",
       "      <td>...</td>\n",
       "      <td>...</td>\n",
       "      <td>...</td>\n",
       "      <td>...</td>\n",
       "      <td>...</td>\n",
       "      <td>...</td>\n",
       "      <td>...</td>\n",
       "      <td>...</td>\n",
       "    </tr>\n",
       "    <tr>\n",
       "      <th>1508</th>\n",
       "      <td>16135</td>\n",
       "      <td>0</td>\n",
       "      <td>0</td>\n",
       "      <td>0</td>\n",
       "      <td>0.0</td>\n",
       "      <td>5.0</td>\n",
       "      <td>NaN</td>\n",
       "      <td>NaN</td>\n",
       "      <td>2.0</td>\n",
       "      <td>2020-04-25 13:22:38</td>\n",
       "      <td>...</td>\n",
       "      <td>mouthes-le-bihan-aime-chai-2015</td>\n",
       "      <td>2020-08-26 17:35:03</td>\n",
       "      <td>2020-08-26 15:35:03</td>\n",
       "      <td>NaN</td>\n",
       "      <td>0.0</td>\n",
       "      <td>https://www.bottle-neck.fr/wp-content/uploads/...</td>\n",
       "      <td>0.0</td>\n",
       "      <td>attachment</td>\n",
       "      <td>image/jpeg</td>\n",
       "      <td>0.0</td>\n",
       "    </tr>\n",
       "    <tr>\n",
       "      <th>1509</th>\n",
       "      <td>15891</td>\n",
       "      <td>0</td>\n",
       "      <td>0</td>\n",
       "      <td>0</td>\n",
       "      <td>0.0</td>\n",
       "      <td>0.0</td>\n",
       "      <td>NaN</td>\n",
       "      <td>NaN</td>\n",
       "      <td>2.0</td>\n",
       "      <td>2020-05-02 14:53:40</td>\n",
       "      <td>...</td>\n",
       "      <td>camin-larredya-jurancon-sec-la-virada-2018</td>\n",
       "      <td>2020-08-26 17:35:02</td>\n",
       "      <td>2020-08-26 15:35:02</td>\n",
       "      <td>NaN</td>\n",
       "      <td>0.0</td>\n",
       "      <td>https://www.bottle-neck.fr/wp-content/uploads/...</td>\n",
       "      <td>0.0</td>\n",
       "      <td>attachment</td>\n",
       "      <td>image/jpeg</td>\n",
       "      <td>0.0</td>\n",
       "    </tr>\n",
       "    <tr>\n",
       "      <th>1510</th>\n",
       "      <td>15887</td>\n",
       "      <td>0</td>\n",
       "      <td>0</td>\n",
       "      <td>0</td>\n",
       "      <td>0.0</td>\n",
       "      <td>0.0</td>\n",
       "      <td>NaN</td>\n",
       "      <td>NaN</td>\n",
       "      <td>2.0</td>\n",
       "      <td>2020-05-02 15:00:54</td>\n",
       "      <td>...</td>\n",
       "      <td>jamet-cote-rotie-fructus-voluptas-2018</td>\n",
       "      <td>2020-08-14 18:15:03</td>\n",
       "      <td>2020-08-14 16:15:03</td>\n",
       "      <td>NaN</td>\n",
       "      <td>0.0</td>\n",
       "      <td>https://www.bottle-neck.fr/wp-content/uploads/...</td>\n",
       "      <td>0.0</td>\n",
       "      <td>attachment</td>\n",
       "      <td>image/jpeg</td>\n",
       "      <td>0.0</td>\n",
       "    </tr>\n",
       "    <tr>\n",
       "      <th>1511</th>\n",
       "      <td>13127-1</td>\n",
       "      <td>0</td>\n",
       "      <td>0</td>\n",
       "      <td>0</td>\n",
       "      <td>0.0</td>\n",
       "      <td>0.0</td>\n",
       "      <td>NaN</td>\n",
       "      <td>NaN</td>\n",
       "      <td>2.0</td>\n",
       "      <td>2020-06-09 15:42:04</td>\n",
       "      <td>...</td>\n",
       "      <td>clos-du-mont-olivet-chateauneuf-du-pape-2007-2</td>\n",
       "      <td>2020-07-20 17:09:06</td>\n",
       "      <td>2020-07-20 15:09:06</td>\n",
       "      <td>NaN</td>\n",
       "      <td>0.0</td>\n",
       "      <td>https://www.bottle-neck.fr/wp-content/uploads/...</td>\n",
       "      <td>0.0</td>\n",
       "      <td>attachment</td>\n",
       "      <td>image/jpeg</td>\n",
       "      <td>0.0</td>\n",
       "    </tr>\n",
       "    <tr>\n",
       "      <th>1512</th>\n",
       "      <td>16230</td>\n",
       "      <td>0</td>\n",
       "      <td>0</td>\n",
       "      <td>0</td>\n",
       "      <td>0.0</td>\n",
       "      <td>0.0</td>\n",
       "      <td>NaN</td>\n",
       "      <td>NaN</td>\n",
       "      <td>2.0</td>\n",
       "      <td>2020-07-20 11:00:00</td>\n",
       "      <td>...</td>\n",
       "      <td>domaine-saint-nicolas-fiefs-vendeens-blanc-les...</td>\n",
       "      <td>2020-08-13 10:45:03</td>\n",
       "      <td>2020-08-13 08:45:03</td>\n",
       "      <td>NaN</td>\n",
       "      <td>0.0</td>\n",
       "      <td>https://www.bottle-neck.fr/wp-content/uploads/...</td>\n",
       "      <td>0.0</td>\n",
       "      <td>attachment</td>\n",
       "      <td>image/jpeg</td>\n",
       "      <td>0.0</td>\n",
       "    </tr>\n",
       "  </tbody>\n",
       "</table>\n",
       "<p>1511 rows × 28 columns</p>\n",
       "</div>"
      ],
      "text/plain": [
       "                      sku  virtual  downloadable  rating_count  \\\n",
       "0     bon-cadeau-25-euros        0             0             0   \n",
       "1                   15298        0             0             0   \n",
       "2                   15296        0             0             0   \n",
       "3                   15300        0             0             0   \n",
       "4                   19814        0             0             0   \n",
       "...                   ...      ...           ...           ...   \n",
       "1508                16135        0             0             0   \n",
       "1509                15891        0             0             0   \n",
       "1510                15887        0             0             0   \n",
       "1511              13127-1        0             0             0   \n",
       "1512                16230        0             0             0   \n",
       "\n",
       "      average_rating  total_sales tax_status  tax_class  post_author  \\\n",
       "0                0.0         10.0    taxable        NaN          1.0   \n",
       "1                0.0          6.0    taxable        NaN          2.0   \n",
       "2                0.0          0.0    taxable        NaN          2.0   \n",
       "3                0.0          0.0    taxable        NaN          2.0   \n",
       "4                0.0          3.0    taxable        NaN          2.0   \n",
       "...              ...          ...        ...        ...          ...   \n",
       "1508             0.0          5.0        NaN        NaN          2.0   \n",
       "1509             0.0          0.0        NaN        NaN          2.0   \n",
       "1510             0.0          0.0        NaN        NaN          2.0   \n",
       "1511             0.0          0.0        NaN        NaN          2.0   \n",
       "1512             0.0          0.0        NaN        NaN          2.0   \n",
       "\n",
       "               post_date  ...  \\\n",
       "0    2018-06-01 13:53:46  ...   \n",
       "1    2018-02-08 12:58:52  ...   \n",
       "2    2018-02-08 13:49:41  ...   \n",
       "3    2018-02-08 14:08:36  ...   \n",
       "4    2018-02-09 14:01:05  ...   \n",
       "...                  ...  ...   \n",
       "1508 2020-04-25 13:22:38  ...   \n",
       "1509 2020-05-02 14:53:40  ...   \n",
       "1510 2020-05-02 15:00:54  ...   \n",
       "1511 2020-06-09 15:42:04  ...   \n",
       "1512 2020-07-20 11:00:00  ...   \n",
       "\n",
       "                                              post_name       post_modified  \\\n",
       "0                                bon-cadeau-de-25-euros 2018-06-01 14:13:57   \n",
       "1           pierre-jean-villa-saint-joseph-preface-2018 2019-12-30 09:30:29   \n",
       "2             pierre-jean-villa-saint-joseph-tilde-2017 2019-12-21 09:00:17   \n",
       "3     pierre-jean-villa-croze-hermitage-accroche-coe... 2020-06-26 18:15:03   \n",
       "4                     pierre-jean-villa-igp-gamine-2018 2020-01-04 16:36:01   \n",
       "...                                                 ...                 ...   \n",
       "1508                    mouthes-le-bihan-aime-chai-2015 2020-08-26 17:35:03   \n",
       "1509         camin-larredya-jurancon-sec-la-virada-2018 2020-08-26 17:35:02   \n",
       "1510             jamet-cote-rotie-fructus-voluptas-2018 2020-08-14 18:15:03   \n",
       "1511     clos-du-mont-olivet-chateauneuf-du-pape-2007-2 2020-07-20 17:09:06   \n",
       "1512  domaine-saint-nicolas-fiefs-vendeens-blanc-les... 2020-08-13 10:45:03   \n",
       "\n",
       "       post_modified_gmt post_content_filtered post_parent  \\\n",
       "0    2018-06-01 12:13:57                   NaN         0.0   \n",
       "1    2019-12-30 08:30:29                   NaN         0.0   \n",
       "2    2019-12-21 08:00:17                   NaN         0.0   \n",
       "3    2020-06-26 16:15:03                   NaN         0.0   \n",
       "4    2020-01-04 15:36:01                   NaN         0.0   \n",
       "...                  ...                   ...         ...   \n",
       "1508 2020-08-26 15:35:03                   NaN         0.0   \n",
       "1509 2020-08-26 15:35:02                   NaN         0.0   \n",
       "1510 2020-08-14 16:15:03                   NaN         0.0   \n",
       "1511 2020-07-20 15:09:06                   NaN         0.0   \n",
       "1512 2020-08-13 08:45:03                   NaN         0.0   \n",
       "\n",
       "                                                   guid menu_order  \\\n",
       "0     https://www.bottle-neck.fr/?post_type=product&...        0.0   \n",
       "1     https://www.bottle-neck.fr/?post_type=product&...        0.0   \n",
       "2     https://www.bottle-neck.fr/?post_type=product&...        0.0   \n",
       "3     https://www.bottle-neck.fr/?post_type=product&...        0.0   \n",
       "4     https://www.bottle-neck.fr/?post_type=product&...        0.0   \n",
       "...                                                 ...        ...   \n",
       "1508  https://www.bottle-neck.fr/wp-content/uploads/...        0.0   \n",
       "1509  https://www.bottle-neck.fr/wp-content/uploads/...        0.0   \n",
       "1510  https://www.bottle-neck.fr/wp-content/uploads/...        0.0   \n",
       "1511  https://www.bottle-neck.fr/wp-content/uploads/...        0.0   \n",
       "1512  https://www.bottle-neck.fr/wp-content/uploads/...        0.0   \n",
       "\n",
       "       post_type post_mime_type comment_count  \n",
       "0        product            NaN           0.0  \n",
       "1        product            NaN           0.0  \n",
       "2        product            NaN           0.0  \n",
       "3        product            NaN           0.0  \n",
       "4        product            NaN           0.0  \n",
       "...          ...            ...           ...  \n",
       "1508  attachment     image/jpeg           0.0  \n",
       "1509  attachment     image/jpeg           0.0  \n",
       "1510  attachment     image/jpeg           0.0  \n",
       "1511  attachment     image/jpeg           0.0  \n",
       "1512  attachment     image/jpeg           0.0  \n",
       "\n",
       "[1511 rows x 28 columns]"
      ]
     },
     "execution_count": 17,
     "metadata": {},
     "output_type": "execute_result"
    }
   ],
   "source": [
    "# Je vérifie maintenant si j'ai des doublons dans le fichier web\n",
    "\n",
    "web.loc[web[['sku','post_name']].duplicated(keep=False),:]"
   ]
  },
  {
   "cell_type": "code",
   "execution_count": 18,
   "id": "4cceb6d0",
   "metadata": {},
   "outputs": [],
   "source": [
    "# Je supprime les doublons du fichier web\n",
    "\n",
    "web.drop_duplicates(subset=['sku','post_name'], inplace=True, ignore_index=True)"
   ]
  },
  {
   "cell_type": "markdown",
   "id": "ce7183db",
   "metadata": {},
   "source": [
    "+ Je supprime les lignes ne contenant que des valeurs manquantes dans le fichier web. "
   ]
  },
  {
   "cell_type": "code",
   "execution_count": 19,
   "id": "1ea497a5",
   "metadata": {
    "scrolled": false
   },
   "outputs": [
    {
     "data": {
      "text/html": [
       "<div>\n",
       "<style scoped>\n",
       "    .dataframe tbody tr th:only-of-type {\n",
       "        vertical-align: middle;\n",
       "    }\n",
       "\n",
       "    .dataframe tbody tr th {\n",
       "        vertical-align: top;\n",
       "    }\n",
       "\n",
       "    .dataframe thead th {\n",
       "        text-align: right;\n",
       "    }\n",
       "</style>\n",
       "<table border=\"1\" class=\"dataframe\">\n",
       "  <thead>\n",
       "    <tr style=\"text-align: right;\">\n",
       "      <th></th>\n",
       "      <th>sku</th>\n",
       "      <th>virtual</th>\n",
       "      <th>downloadable</th>\n",
       "      <th>rating_count</th>\n",
       "      <th>average_rating</th>\n",
       "      <th>total_sales</th>\n",
       "      <th>tax_status</th>\n",
       "      <th>tax_class</th>\n",
       "      <th>post_author</th>\n",
       "      <th>post_date</th>\n",
       "      <th>...</th>\n",
       "      <th>post_name</th>\n",
       "      <th>post_modified</th>\n",
       "      <th>post_modified_gmt</th>\n",
       "      <th>post_content_filtered</th>\n",
       "      <th>post_parent</th>\n",
       "      <th>guid</th>\n",
       "      <th>menu_order</th>\n",
       "      <th>post_type</th>\n",
       "      <th>post_mime_type</th>\n",
       "      <th>comment_count</th>\n",
       "    </tr>\n",
       "  </thead>\n",
       "  <tbody>\n",
       "    <tr>\n",
       "      <th>0</th>\n",
       "      <td>bon-cadeau-25-euros</td>\n",
       "      <td>0</td>\n",
       "      <td>0</td>\n",
       "      <td>0</td>\n",
       "      <td>0.0</td>\n",
       "      <td>10.0</td>\n",
       "      <td>taxable</td>\n",
       "      <td>NaN</td>\n",
       "      <td>1.0</td>\n",
       "      <td>2018-06-01 13:53:46</td>\n",
       "      <td>...</td>\n",
       "      <td>bon-cadeau-de-25-euros</td>\n",
       "      <td>2018-06-01 14:13:57</td>\n",
       "      <td>2018-06-01 12:13:57</td>\n",
       "      <td>NaN</td>\n",
       "      <td>0.0</td>\n",
       "      <td>https://www.bottle-neck.fr/?post_type=product&amp;...</td>\n",
       "      <td>0.0</td>\n",
       "      <td>product</td>\n",
       "      <td>NaN</td>\n",
       "      <td>0.0</td>\n",
       "    </tr>\n",
       "    <tr>\n",
       "      <th>1</th>\n",
       "      <td>15298</td>\n",
       "      <td>0</td>\n",
       "      <td>0</td>\n",
       "      <td>0</td>\n",
       "      <td>0.0</td>\n",
       "      <td>6.0</td>\n",
       "      <td>taxable</td>\n",
       "      <td>NaN</td>\n",
       "      <td>2.0</td>\n",
       "      <td>2018-02-08 12:58:52</td>\n",
       "      <td>...</td>\n",
       "      <td>pierre-jean-villa-saint-joseph-preface-2018</td>\n",
       "      <td>2019-12-30 09:30:29</td>\n",
       "      <td>2019-12-30 08:30:29</td>\n",
       "      <td>NaN</td>\n",
       "      <td>0.0</td>\n",
       "      <td>https://www.bottle-neck.fr/?post_type=product&amp;...</td>\n",
       "      <td>0.0</td>\n",
       "      <td>product</td>\n",
       "      <td>NaN</td>\n",
       "      <td>0.0</td>\n",
       "    </tr>\n",
       "  </tbody>\n",
       "</table>\n",
       "<p>2 rows × 28 columns</p>\n",
       "</div>"
      ],
      "text/plain": [
       "                   sku  virtual  downloadable  rating_count  average_rating  \\\n",
       "0  bon-cadeau-25-euros        0             0             0             0.0   \n",
       "1                15298        0             0             0             0.0   \n",
       "\n",
       "   total_sales tax_status  tax_class  post_author           post_date  ...  \\\n",
       "0         10.0    taxable        NaN          1.0 2018-06-01 13:53:46  ...   \n",
       "1          6.0    taxable        NaN          2.0 2018-02-08 12:58:52  ...   \n",
       "\n",
       "                                     post_name       post_modified  \\\n",
       "0                       bon-cadeau-de-25-euros 2018-06-01 14:13:57   \n",
       "1  pierre-jean-villa-saint-joseph-preface-2018 2019-12-30 09:30:29   \n",
       "\n",
       "    post_modified_gmt post_content_filtered post_parent  \\\n",
       "0 2018-06-01 12:13:57                   NaN         0.0   \n",
       "1 2019-12-30 08:30:29                   NaN         0.0   \n",
       "\n",
       "                                                guid menu_order  post_type  \\\n",
       "0  https://www.bottle-neck.fr/?post_type=product&...        0.0    product   \n",
       "1  https://www.bottle-neck.fr/?post_type=product&...        0.0    product   \n",
       "\n",
       "  post_mime_type comment_count  \n",
       "0            NaN           0.0  \n",
       "1            NaN           0.0  \n",
       "\n",
       "[2 rows x 28 columns]"
      ]
     },
     "execution_count": 19,
     "metadata": {},
     "output_type": "execute_result"
    }
   ],
   "source": [
    "web.dropna(axis=0, how='all', thresh=None, subset=None, inplace=False).head(2)"
   ]
  },
  {
   "cell_type": "markdown",
   "id": "3b96bdaa",
   "metadata": {},
   "source": [
    "+ Je supprime les lignes du fichier web contenant des valeurs manquantes dans la colonne 'sku' car la variable 'sku' servira de clé lors de la jointure des fichiers et sans valeur, les lignes concernées ne pourront pas être rapprochées des autres fichiers"
   ]
  },
  {
   "cell_type": "code",
   "execution_count": 20,
   "id": "d89046dd",
   "metadata": {},
   "outputs": [
    {
     "data": {
      "text/plain": [
       "(714, 28)"
      ]
     },
     "execution_count": 20,
     "metadata": {},
     "output_type": "execute_result"
    }
   ],
   "source": [
    "web = web.dropna(subset=['sku'])\n",
    "web.shape"
   ]
  },
  {
   "cell_type": "code",
   "execution_count": 21,
   "id": "8e12953c",
   "metadata": {},
   "outputs": [
    {
     "data": {
      "text/plain": [
       "714"
      ]
     },
     "execution_count": 21,
     "metadata": {},
     "output_type": "execute_result"
    }
   ],
   "source": [
    "# Etant donné que la variable 'sku' est ma clé de jointure, je vérifie pour les 714 lignes du fichier web, \n",
    "# que toutes les valeurs de la variable 'sku' sont bien uniques \n",
    "\n",
    "web['sku'].nunique()"
   ]
  },
  {
   "cell_type": "markdown",
   "id": "d9d00936",
   "metadata": {},
   "source": [
    "+ Je vérifie le contenu des variables, afin de supprimer celles qui ne contiennent que des zéros ou des valeurs manquantes"
   ]
  },
  {
   "cell_type": "code",
   "execution_count": 22,
   "id": "1478b62f",
   "metadata": {},
   "outputs": [
    {
     "data": {
      "text/plain": [
       "0    714\n",
       "Name: virtual, dtype: int64"
      ]
     },
     "execution_count": 22,
     "metadata": {},
     "output_type": "execute_result"
    }
   ],
   "source": [
    "web['virtual'].value_counts()"
   ]
  },
  {
   "cell_type": "code",
   "execution_count": 23,
   "id": "3dd747af",
   "metadata": {},
   "outputs": [
    {
     "data": {
      "text/plain": [
       "0    714\n",
       "Name: downloadable, dtype: int64"
      ]
     },
     "execution_count": 23,
     "metadata": {},
     "output_type": "execute_result"
    }
   ],
   "source": [
    "web['downloadable'].value_counts()"
   ]
  },
  {
   "cell_type": "code",
   "execution_count": 24,
   "id": "d628f366",
   "metadata": {},
   "outputs": [
    {
     "data": {
      "text/plain": [
       "0    714\n",
       "Name: rating_count, dtype: int64"
      ]
     },
     "execution_count": 24,
     "metadata": {},
     "output_type": "execute_result"
    }
   ],
   "source": [
    "web['rating_count'].value_counts()"
   ]
  },
  {
   "cell_type": "code",
   "execution_count": 25,
   "id": "0024b673",
   "metadata": {},
   "outputs": [
    {
     "data": {
      "text/plain": [
       "0.0    714\n",
       "Name: average_rating, dtype: int64"
      ]
     },
     "execution_count": 25,
     "metadata": {},
     "output_type": "execute_result"
    }
   ],
   "source": [
    "web['average_rating'].value_counts()"
   ]
  },
  {
   "cell_type": "code",
   "execution_count": 26,
   "id": "53d3fcf0",
   "metadata": {},
   "outputs": [
    {
     "data": {
      "text/plain": [
       "0.0    714\n",
       "Name: post_parent, dtype: int64"
      ]
     },
     "execution_count": 26,
     "metadata": {},
     "output_type": "execute_result"
    }
   ],
   "source": [
    "web['post_parent'].value_counts()"
   ]
  },
  {
   "cell_type": "code",
   "execution_count": 27,
   "id": "66d1b75d",
   "metadata": {},
   "outputs": [
    {
     "data": {
      "text/plain": [
       "0.0    714\n",
       "Name: menu_order, dtype: int64"
      ]
     },
     "execution_count": 27,
     "metadata": {},
     "output_type": "execute_result"
    }
   ],
   "source": [
    "web['menu_order'].value_counts()"
   ]
  },
  {
   "cell_type": "code",
   "execution_count": 28,
   "id": "52998ad7",
   "metadata": {},
   "outputs": [
    {
     "data": {
      "text/plain": [
       "0.0    714\n",
       "Name: comment_count, dtype: int64"
      ]
     },
     "execution_count": 28,
     "metadata": {},
     "output_type": "execute_result"
    }
   ],
   "source": [
    "web['comment_count'].value_counts()"
   ]
  },
  {
   "cell_type": "code",
   "execution_count": 29,
   "id": "361a1389",
   "metadata": {},
   "outputs": [
    {
     "data": {
      "text/plain": [
       "Series([], Name: post_mime_type, dtype: int64)"
      ]
     },
     "execution_count": 29,
     "metadata": {},
     "output_type": "execute_result"
    }
   ],
   "source": [
    "web['post_mime_type'].value_counts()"
   ]
  },
  {
   "cell_type": "code",
   "execution_count": 30,
   "id": "1afe7afa",
   "metadata": {},
   "outputs": [
    {
     "data": {
      "text/html": [
       "<div>\n",
       "<style scoped>\n",
       "    .dataframe tbody tr th:only-of-type {\n",
       "        vertical-align: middle;\n",
       "    }\n",
       "\n",
       "    .dataframe tbody tr th {\n",
       "        vertical-align: top;\n",
       "    }\n",
       "\n",
       "    .dataframe thead th {\n",
       "        text-align: right;\n",
       "    }\n",
       "</style>\n",
       "<table border=\"1\" class=\"dataframe\">\n",
       "  <thead>\n",
       "    <tr style=\"text-align: right;\">\n",
       "      <th></th>\n",
       "      <th>sku</th>\n",
       "      <th>total_sales</th>\n",
       "      <th>tax_status</th>\n",
       "      <th>post_author</th>\n",
       "      <th>post_date</th>\n",
       "      <th>post_date_gmt</th>\n",
       "      <th>post_title</th>\n",
       "      <th>post_excerpt</th>\n",
       "      <th>post_status</th>\n",
       "      <th>comment_status</th>\n",
       "      <th>ping_status</th>\n",
       "      <th>post_name</th>\n",
       "      <th>post_modified</th>\n",
       "      <th>post_modified_gmt</th>\n",
       "      <th>guid</th>\n",
       "      <th>post_type</th>\n",
       "    </tr>\n",
       "  </thead>\n",
       "  <tbody>\n",
       "    <tr>\n",
       "      <th>0</th>\n",
       "      <td>bon-cadeau-25-euros</td>\n",
       "      <td>10.0</td>\n",
       "      <td>taxable</td>\n",
       "      <td>1.0</td>\n",
       "      <td>2018-06-01 13:53:46</td>\n",
       "      <td>2018-06-01 11:53:46</td>\n",
       "      <td>Bon cadeau de 25€</td>\n",
       "      <td>&lt;span style=\"color: #a85253;\"&gt;&lt;strong&gt;Parlons ...</td>\n",
       "      <td>publish</td>\n",
       "      <td>closed</td>\n",
       "      <td>closed</td>\n",
       "      <td>bon-cadeau-de-25-euros</td>\n",
       "      <td>2018-06-01 14:13:57</td>\n",
       "      <td>2018-06-01 12:13:57</td>\n",
       "      <td>https://www.bottle-neck.fr/?post_type=product&amp;...</td>\n",
       "      <td>product</td>\n",
       "    </tr>\n",
       "    <tr>\n",
       "      <th>1</th>\n",
       "      <td>15298</td>\n",
       "      <td>6.0</td>\n",
       "      <td>taxable</td>\n",
       "      <td>2.0</td>\n",
       "      <td>2018-02-08 12:58:52</td>\n",
       "      <td>2018-02-08 11:58:52</td>\n",
       "      <td>Pierre Jean Villa Saint-Joseph Préface 2018</td>\n",
       "      <td>Il exhale un nez subtil, racé avec du poivre f...</td>\n",
       "      <td>publish</td>\n",
       "      <td>closed</td>\n",
       "      <td>closed</td>\n",
       "      <td>pierre-jean-villa-saint-joseph-preface-2018</td>\n",
       "      <td>2019-12-30 09:30:29</td>\n",
       "      <td>2019-12-30 08:30:29</td>\n",
       "      <td>https://www.bottle-neck.fr/?post_type=product&amp;...</td>\n",
       "      <td>product</td>\n",
       "    </tr>\n",
       "  </tbody>\n",
       "</table>\n",
       "</div>"
      ],
      "text/plain": [
       "                   sku  total_sales tax_status  post_author  \\\n",
       "0  bon-cadeau-25-euros         10.0    taxable          1.0   \n",
       "1                15298          6.0    taxable          2.0   \n",
       "\n",
       "            post_date       post_date_gmt  \\\n",
       "0 2018-06-01 13:53:46 2018-06-01 11:53:46   \n",
       "1 2018-02-08 12:58:52 2018-02-08 11:58:52   \n",
       "\n",
       "                                    post_title  \\\n",
       "0                            Bon cadeau de 25€   \n",
       "1  Pierre Jean Villa Saint-Joseph Préface 2018   \n",
       "\n",
       "                                        post_excerpt post_status  \\\n",
       "0  <span style=\"color: #a85253;\"><strong>Parlons ...     publish   \n",
       "1  Il exhale un nez subtil, racé avec du poivre f...     publish   \n",
       "\n",
       "  comment_status ping_status                                    post_name  \\\n",
       "0         closed      closed                       bon-cadeau-de-25-euros   \n",
       "1         closed      closed  pierre-jean-villa-saint-joseph-preface-2018   \n",
       "\n",
       "        post_modified   post_modified_gmt  \\\n",
       "0 2018-06-01 14:13:57 2018-06-01 12:13:57   \n",
       "1 2019-12-30 09:30:29 2019-12-30 08:30:29   \n",
       "\n",
       "                                                guid post_type  \n",
       "0  https://www.bottle-neck.fr/?post_type=product&...   product  \n",
       "1  https://www.bottle-neck.fr/?post_type=product&...   product  "
      ]
     },
     "execution_count": 30,
     "metadata": {},
     "output_type": "execute_result"
    }
   ],
   "source": [
    "# Je supprime les variables qui ne contiennent que des zéros ou des valeurs manquantes\n",
    "\n",
    "web = web.drop(['virtual','downloadable','rating_count','average_rating','post_parent','menu_order','comment_count','tax_class','post_content','post_password','post_content_filtered','post_mime_type'], axis=1)\n",
    "web.head(2)"
   ]
  },
  {
   "cell_type": "code",
   "execution_count": 31,
   "id": "c3ff9977",
   "metadata": {},
   "outputs": [
    {
     "data": {
      "text/plain": [
       "sku                  0\n",
       "total_sales          0\n",
       "tax_status           0\n",
       "post_author          0\n",
       "post_date            0\n",
       "post_date_gmt        0\n",
       "post_title           0\n",
       "post_excerpt         0\n",
       "post_status          0\n",
       "comment_status       0\n",
       "ping_status          0\n",
       "post_name            0\n",
       "post_modified        0\n",
       "post_modified_gmt    0\n",
       "guid                 0\n",
       "post_type            0\n",
       "dtype: int64"
      ]
     },
     "execution_count": 31,
     "metadata": {},
     "output_type": "execute_result"
    }
   ],
   "source": [
    "web.isnull().sum()"
   ]
  },
  {
   "cell_type": "markdown",
   "id": "fc0c58da",
   "metadata": {},
   "source": [
    "**Jointure des fichiers**"
   ]
  },
  {
   "cell_type": "markdown",
   "id": "f69a63e8",
   "metadata": {},
   "source": [
    "+ Maintenant que l'étape de nettoyage est terminée, je joins le fichier erp et le fichier liaison dans un nouveau dataframe que je nomme erp_liaison."
   ]
  },
  {
   "cell_type": "code",
   "execution_count": 32,
   "id": "f78488b3",
   "metadata": {},
   "outputs": [
    {
     "data": {
      "text/html": [
       "<div>\n",
       "<style scoped>\n",
       "    .dataframe tbody tr th:only-of-type {\n",
       "        vertical-align: middle;\n",
       "    }\n",
       "\n",
       "    .dataframe tbody tr th {\n",
       "        vertical-align: top;\n",
       "    }\n",
       "\n",
       "    .dataframe thead th {\n",
       "        text-align: right;\n",
       "    }\n",
       "</style>\n",
       "<table border=\"1\" class=\"dataframe\">\n",
       "  <thead>\n",
       "    <tr style=\"text-align: right;\">\n",
       "      <th></th>\n",
       "      <th>product_id</th>\n",
       "      <th>onsale_web</th>\n",
       "      <th>price</th>\n",
       "      <th>stock_quantity</th>\n",
       "      <th>stock_status</th>\n",
       "      <th>id_web</th>\n",
       "    </tr>\n",
       "  </thead>\n",
       "  <tbody>\n",
       "    <tr>\n",
       "      <th>0</th>\n",
       "      <td>7338</td>\n",
       "      <td>1</td>\n",
       "      <td>16.3</td>\n",
       "      <td>45</td>\n",
       "      <td>instock</td>\n",
       "      <td>16230</td>\n",
       "    </tr>\n",
       "    <tr>\n",
       "      <th>1</th>\n",
       "      <td>7329</td>\n",
       "      <td>0</td>\n",
       "      <td>26.5</td>\n",
       "      <td>14</td>\n",
       "      <td>instock</td>\n",
       "      <td>14680-1</td>\n",
       "    </tr>\n",
       "    <tr>\n",
       "      <th>2</th>\n",
       "      <td>7247</td>\n",
       "      <td>1</td>\n",
       "      <td>54.8</td>\n",
       "      <td>23</td>\n",
       "      <td>instock</td>\n",
       "      <td>13127-1</td>\n",
       "    </tr>\n",
       "    <tr>\n",
       "      <th>3</th>\n",
       "      <td>7025</td>\n",
       "      <td>1</td>\n",
       "      <td>69.0</td>\n",
       "      <td>2</td>\n",
       "      <td>instock</td>\n",
       "      <td>15887</td>\n",
       "    </tr>\n",
       "    <tr>\n",
       "      <th>4</th>\n",
       "      <td>7023</td>\n",
       "      <td>1</td>\n",
       "      <td>27.5</td>\n",
       "      <td>15</td>\n",
       "      <td>instock</td>\n",
       "      <td>15891</td>\n",
       "    </tr>\n",
       "  </tbody>\n",
       "</table>\n",
       "</div>"
      ],
      "text/plain": [
       "   product_id  onsale_web  price  stock_quantity stock_status   id_web\n",
       "0        7338           1   16.3              45      instock    16230\n",
       "1        7329           0   26.5              14      instock  14680-1\n",
       "2        7247           1   54.8              23      instock  13127-1\n",
       "3        7025           1   69.0               2      instock    15887\n",
       "4        7023           1   27.5              15      instock    15891"
      ]
     },
     "execution_count": 32,
     "metadata": {},
     "output_type": "execute_result"
    }
   ],
   "source": [
    "# J'effectue une jointure interne\n",
    "\n",
    "erp_liaison = pd.merge(erp,liaison, on = 'product_id',how='inner')\n",
    "erp_liaison.head()"
   ]
  },
  {
   "cell_type": "code",
   "execution_count": 33,
   "id": "facfacb2",
   "metadata": {},
   "outputs": [
    {
     "data": {
      "text/plain": [
       "(734, 6)"
      ]
     },
     "execution_count": 33,
     "metadata": {},
     "output_type": "execute_result"
    }
   ],
   "source": [
    "# Je vérifie si j'ai bien le même nombre de lignes que dans le fichier liaison\n",
    "\n",
    "erp_liaison.shape"
   ]
  },
  {
   "cell_type": "markdown",
   "id": "71c37402",
   "metadata": {},
   "source": [
    "+ Puis je joins ce nouveau dataframe erp-liaison avec le dataframe web après avoir convertis ma variable sku en format chaine de caractères"
   ]
  },
  {
   "cell_type": "code",
   "execution_count": 34,
   "id": "422b99fd",
   "metadata": {},
   "outputs": [
    {
     "name": "stdout",
     "output_type": "stream",
     "text": [
      "<class 'pandas.core.frame.DataFrame'>\n",
      "Int64Index: 714 entries, 0 to 716\n",
      "Data columns (total 16 columns):\n",
      " #   Column             Non-Null Count  Dtype         \n",
      "---  ------             --------------  -----         \n",
      " 0   sku                714 non-null    object        \n",
      " 1   total_sales        714 non-null    float64       \n",
      " 2   tax_status         714 non-null    object        \n",
      " 3   post_author        714 non-null    float64       \n",
      " 4   post_date          714 non-null    datetime64[ns]\n",
      " 5   post_date_gmt      714 non-null    datetime64[ns]\n",
      " 6   post_title         714 non-null    object        \n",
      " 7   post_excerpt       714 non-null    object        \n",
      " 8   post_status        714 non-null    object        \n",
      " 9   comment_status     714 non-null    object        \n",
      " 10  ping_status        714 non-null    object        \n",
      " 11  post_name          714 non-null    object        \n",
      " 12  post_modified      714 non-null    datetime64[ns]\n",
      " 13  post_modified_gmt  714 non-null    datetime64[ns]\n",
      " 14  guid               714 non-null    object        \n",
      " 15  post_type          714 non-null    object        \n",
      "dtypes: datetime64[ns](4), float64(2), object(10)\n",
      "memory usage: 94.8+ KB\n",
      "None\n"
     ]
    }
   ],
   "source": [
    "# Je convertis ma variable sku en format chaine de caractères\n",
    "\n",
    "web['sku'] = web['sku'].astype(str)\n",
    "print(web.info())"
   ]
  },
  {
   "cell_type": "code",
   "execution_count": 35,
   "id": "10048bd3",
   "metadata": {},
   "outputs": [
    {
     "data": {
      "text/html": [
       "<div>\n",
       "<style scoped>\n",
       "    .dataframe tbody tr th:only-of-type {\n",
       "        vertical-align: middle;\n",
       "    }\n",
       "\n",
       "    .dataframe tbody tr th {\n",
       "        vertical-align: top;\n",
       "    }\n",
       "\n",
       "    .dataframe thead th {\n",
       "        text-align: right;\n",
       "    }\n",
       "</style>\n",
       "<table border=\"1\" class=\"dataframe\">\n",
       "  <thead>\n",
       "    <tr style=\"text-align: right;\">\n",
       "      <th></th>\n",
       "      <th>product_id</th>\n",
       "      <th>onsale_web</th>\n",
       "      <th>price</th>\n",
       "      <th>stock_quantity</th>\n",
       "      <th>stock_status</th>\n",
       "      <th>id_web</th>\n",
       "      <th>sku</th>\n",
       "      <th>total_sales</th>\n",
       "      <th>tax_status</th>\n",
       "      <th>post_author</th>\n",
       "      <th>...</th>\n",
       "      <th>post_title</th>\n",
       "      <th>post_excerpt</th>\n",
       "      <th>post_status</th>\n",
       "      <th>comment_status</th>\n",
       "      <th>ping_status</th>\n",
       "      <th>post_name</th>\n",
       "      <th>post_modified</th>\n",
       "      <th>post_modified_gmt</th>\n",
       "      <th>guid</th>\n",
       "      <th>post_type</th>\n",
       "    </tr>\n",
       "  </thead>\n",
       "  <tbody>\n",
       "    <tr>\n",
       "      <th>0</th>\n",
       "      <td>4954</td>\n",
       "      <td>1</td>\n",
       "      <td>25.0</td>\n",
       "      <td>0</td>\n",
       "      <td>instock</td>\n",
       "      <td>bon-cadeau-25-euros</td>\n",
       "      <td>bon-cadeau-25-euros</td>\n",
       "      <td>10.0</td>\n",
       "      <td>taxable</td>\n",
       "      <td>1.0</td>\n",
       "      <td>...</td>\n",
       "      <td>Bon cadeau de 25€</td>\n",
       "      <td>&lt;span style=\"color: #a85253;\"&gt;&lt;strong&gt;Parlons ...</td>\n",
       "      <td>publish</td>\n",
       "      <td>closed</td>\n",
       "      <td>closed</td>\n",
       "      <td>bon-cadeau-de-25-euros</td>\n",
       "      <td>2018-06-01 14:13:57</td>\n",
       "      <td>2018-06-01 12:13:57</td>\n",
       "      <td>https://www.bottle-neck.fr/?post_type=product&amp;...</td>\n",
       "      <td>product</td>\n",
       "    </tr>\n",
       "    <tr>\n",
       "      <th>1</th>\n",
       "      <td>3847</td>\n",
       "      <td>1</td>\n",
       "      <td>24.2</td>\n",
       "      <td>0</td>\n",
       "      <td>outofstock</td>\n",
       "      <td>15298</td>\n",
       "      <td>15298</td>\n",
       "      <td>6.0</td>\n",
       "      <td>taxable</td>\n",
       "      <td>2.0</td>\n",
       "      <td>...</td>\n",
       "      <td>Pierre Jean Villa Saint-Joseph Préface 2018</td>\n",
       "      <td>Il exhale un nez subtil, racé avec du poivre f...</td>\n",
       "      <td>publish</td>\n",
       "      <td>closed</td>\n",
       "      <td>closed</td>\n",
       "      <td>pierre-jean-villa-saint-joseph-preface-2018</td>\n",
       "      <td>2019-12-30 09:30:29</td>\n",
       "      <td>2019-12-30 08:30:29</td>\n",
       "      <td>https://www.bottle-neck.fr/?post_type=product&amp;...</td>\n",
       "      <td>product</td>\n",
       "    </tr>\n",
       "    <tr>\n",
       "      <th>2</th>\n",
       "      <td>3849</td>\n",
       "      <td>1</td>\n",
       "      <td>34.3</td>\n",
       "      <td>0</td>\n",
       "      <td>outofstock</td>\n",
       "      <td>15296</td>\n",
       "      <td>15296</td>\n",
       "      <td>0.0</td>\n",
       "      <td>taxable</td>\n",
       "      <td>2.0</td>\n",
       "      <td>...</td>\n",
       "      <td>Pierre Jean Villa Saint-Joseph Rouge Tildé 2017</td>\n",
       "      <td>Les vieilles vignes lui apportent une rare pro...</td>\n",
       "      <td>publish</td>\n",
       "      <td>closed</td>\n",
       "      <td>closed</td>\n",
       "      <td>pierre-jean-villa-saint-joseph-tilde-2017</td>\n",
       "      <td>2019-12-21 09:00:17</td>\n",
       "      <td>2019-12-21 08:00:17</td>\n",
       "      <td>https://www.bottle-neck.fr/?post_type=product&amp;...</td>\n",
       "      <td>product</td>\n",
       "    </tr>\n",
       "    <tr>\n",
       "      <th>3</th>\n",
       "      <td>3850</td>\n",
       "      <td>1</td>\n",
       "      <td>20.8</td>\n",
       "      <td>0</td>\n",
       "      <td>outofstock</td>\n",
       "      <td>15300</td>\n",
       "      <td>15300</td>\n",
       "      <td>0.0</td>\n",
       "      <td>taxable</td>\n",
       "      <td>2.0</td>\n",
       "      <td>...</td>\n",
       "      <td>Pierre Jean Villa Crozes-Hermitage Accroche Co...</td>\n",
       "      <td>Dentelle de fruit de jeunes syrah, aux tanins ...</td>\n",
       "      <td>publish</td>\n",
       "      <td>closed</td>\n",
       "      <td>closed</td>\n",
       "      <td>pierre-jean-villa-croze-hermitage-accroche-coe...</td>\n",
       "      <td>2020-06-26 18:15:03</td>\n",
       "      <td>2020-06-26 16:15:03</td>\n",
       "      <td>https://www.bottle-neck.fr/?post_type=product&amp;...</td>\n",
       "      <td>product</td>\n",
       "    </tr>\n",
       "    <tr>\n",
       "      <th>4</th>\n",
       "      <td>4032</td>\n",
       "      <td>1</td>\n",
       "      <td>14.1</td>\n",
       "      <td>0</td>\n",
       "      <td>outofstock</td>\n",
       "      <td>19814</td>\n",
       "      <td>19814</td>\n",
       "      <td>3.0</td>\n",
       "      <td>taxable</td>\n",
       "      <td>2.0</td>\n",
       "      <td>...</td>\n",
       "      <td>Pierre Jean Villa IGP Collines Rhodaniennes Ga...</td>\n",
       "      <td>Gamine représente tout le fruité et la gourman...</td>\n",
       "      <td>publish</td>\n",
       "      <td>closed</td>\n",
       "      <td>closed</td>\n",
       "      <td>pierre-jean-villa-igp-gamine-2018</td>\n",
       "      <td>2020-01-04 16:36:01</td>\n",
       "      <td>2020-01-04 15:36:01</td>\n",
       "      <td>https://www.bottle-neck.fr/?post_type=product&amp;...</td>\n",
       "      <td>product</td>\n",
       "    </tr>\n",
       "  </tbody>\n",
       "</table>\n",
       "<p>5 rows × 22 columns</p>\n",
       "</div>"
      ],
      "text/plain": [
       "   product_id  onsale_web  price  stock_quantity stock_status  \\\n",
       "0        4954           1   25.0               0      instock   \n",
       "1        3847           1   24.2               0   outofstock   \n",
       "2        3849           1   34.3               0   outofstock   \n",
       "3        3850           1   20.8               0   outofstock   \n",
       "4        4032           1   14.1               0   outofstock   \n",
       "\n",
       "                id_web                  sku  total_sales tax_status  \\\n",
       "0  bon-cadeau-25-euros  bon-cadeau-25-euros         10.0    taxable   \n",
       "1                15298                15298          6.0    taxable   \n",
       "2                15296                15296          0.0    taxable   \n",
       "3                15300                15300          0.0    taxable   \n",
       "4                19814                19814          3.0    taxable   \n",
       "\n",
       "   post_author  ...                                         post_title  \\\n",
       "0          1.0  ...                                  Bon cadeau de 25€   \n",
       "1          2.0  ...        Pierre Jean Villa Saint-Joseph Préface 2018   \n",
       "2          2.0  ...    Pierre Jean Villa Saint-Joseph Rouge Tildé 2017   \n",
       "3          2.0  ...  Pierre Jean Villa Crozes-Hermitage Accroche Co...   \n",
       "4          2.0  ...  Pierre Jean Villa IGP Collines Rhodaniennes Ga...   \n",
       "\n",
       "                                        post_excerpt post_status  \\\n",
       "0  <span style=\"color: #a85253;\"><strong>Parlons ...     publish   \n",
       "1  Il exhale un nez subtil, racé avec du poivre f...     publish   \n",
       "2  Les vieilles vignes lui apportent une rare pro...     publish   \n",
       "3  Dentelle de fruit de jeunes syrah, aux tanins ...     publish   \n",
       "4  Gamine représente tout le fruité et la gourman...     publish   \n",
       "\n",
       "  comment_status ping_status  \\\n",
       "0         closed      closed   \n",
       "1         closed      closed   \n",
       "2         closed      closed   \n",
       "3         closed      closed   \n",
       "4         closed      closed   \n",
       "\n",
       "                                           post_name       post_modified  \\\n",
       "0                             bon-cadeau-de-25-euros 2018-06-01 14:13:57   \n",
       "1        pierre-jean-villa-saint-joseph-preface-2018 2019-12-30 09:30:29   \n",
       "2          pierre-jean-villa-saint-joseph-tilde-2017 2019-12-21 09:00:17   \n",
       "3  pierre-jean-villa-croze-hermitage-accroche-coe... 2020-06-26 18:15:03   \n",
       "4                  pierre-jean-villa-igp-gamine-2018 2020-01-04 16:36:01   \n",
       "\n",
       "    post_modified_gmt                                               guid  \\\n",
       "0 2018-06-01 12:13:57  https://www.bottle-neck.fr/?post_type=product&...   \n",
       "1 2019-12-30 08:30:29  https://www.bottle-neck.fr/?post_type=product&...   \n",
       "2 2019-12-21 08:00:17  https://www.bottle-neck.fr/?post_type=product&...   \n",
       "3 2020-06-26 16:15:03  https://www.bottle-neck.fr/?post_type=product&...   \n",
       "4 2020-01-04 15:36:01  https://www.bottle-neck.fr/?post_type=product&...   \n",
       "\n",
       "  post_type  \n",
       "0   product  \n",
       "1   product  \n",
       "2   product  \n",
       "3   product  \n",
       "4   product  \n",
       "\n",
       "[5 rows x 22 columns]"
      ]
     },
     "execution_count": 35,
     "metadata": {},
     "output_type": "execute_result"
    }
   ],
   "source": [
    "# J'effectue une jointure à droite pour conserver toutes les lignes du fichier web.\n",
    "\n",
    "new_erp = pd.merge(erp_liaison,web, left_on = 'id_web', right_on = 'sku',how='right')\n",
    "new_erp.head()"
   ]
  },
  {
   "cell_type": "code",
   "execution_count": 36,
   "id": "e3b6108e",
   "metadata": {},
   "outputs": [
    {
     "data": {
      "text/plain": [
       "(714, 22)"
      ]
     },
     "execution_count": 36,
     "metadata": {},
     "output_type": "execute_result"
    }
   ],
   "source": [
    "# Je vérifie que j'ai bien toutes les lignes du fichier web\n",
    "\n",
    "new_erp.shape"
   ]
  },
  {
   "cell_type": "markdown",
   "id": "28d827e6",
   "metadata": {},
   "source": [
    ">J'obtiens donc mes trois fichiers réunis en un seul fichier de 714 lignes qui contient l'ensemble des informations"
   ]
  },
  {
   "cell_type": "markdown",
   "id": "0232681c",
   "metadata": {},
   "source": [
    "**2. Calcul du chiffre d'affaire par produit et du chiffre d'affaire total réalisé en ligne**"
   ]
  },
  {
   "cell_type": "code",
   "execution_count": 37,
   "id": "4a5dc199",
   "metadata": {},
   "outputs": [
    {
     "data": {
      "text/html": [
       "<div>\n",
       "<style scoped>\n",
       "    .dataframe tbody tr th:only-of-type {\n",
       "        vertical-align: middle;\n",
       "    }\n",
       "\n",
       "    .dataframe tbody tr th {\n",
       "        vertical-align: top;\n",
       "    }\n",
       "\n",
       "    .dataframe thead th {\n",
       "        text-align: right;\n",
       "    }\n",
       "</style>\n",
       "<table border=\"1\" class=\"dataframe\">\n",
       "  <thead>\n",
       "    <tr style=\"text-align: right;\">\n",
       "      <th></th>\n",
       "      <th>product_id</th>\n",
       "      <th>ca</th>\n",
       "      <th>price</th>\n",
       "      <th>total_sales</th>\n",
       "    </tr>\n",
       "  </thead>\n",
       "  <tbody>\n",
       "    <tr>\n",
       "      <th>0</th>\n",
       "      <td>4954</td>\n",
       "      <td>250.0</td>\n",
       "      <td>25.0</td>\n",
       "      <td>10.0</td>\n",
       "    </tr>\n",
       "    <tr>\n",
       "      <th>1</th>\n",
       "      <td>3847</td>\n",
       "      <td>145.2</td>\n",
       "      <td>24.2</td>\n",
       "      <td>6.0</td>\n",
       "    </tr>\n",
       "    <tr>\n",
       "      <th>2</th>\n",
       "      <td>3849</td>\n",
       "      <td>0.0</td>\n",
       "      <td>34.3</td>\n",
       "      <td>0.0</td>\n",
       "    </tr>\n",
       "    <tr>\n",
       "      <th>3</th>\n",
       "      <td>3850</td>\n",
       "      <td>0.0</td>\n",
       "      <td>20.8</td>\n",
       "      <td>0.0</td>\n",
       "    </tr>\n",
       "    <tr>\n",
       "      <th>4</th>\n",
       "      <td>4032</td>\n",
       "      <td>42.3</td>\n",
       "      <td>14.1</td>\n",
       "      <td>3.0</td>\n",
       "    </tr>\n",
       "    <tr>\n",
       "      <th>5</th>\n",
       "      <td>4039</td>\n",
       "      <td>0.0</td>\n",
       "      <td>46.0</td>\n",
       "      <td>0.0</td>\n",
       "    </tr>\n",
       "    <tr>\n",
       "      <th>6</th>\n",
       "      <td>4040</td>\n",
       "      <td>0.0</td>\n",
       "      <td>34.3</td>\n",
       "      <td>0.0</td>\n",
       "    </tr>\n",
       "    <tr>\n",
       "      <th>7</th>\n",
       "      <td>4041</td>\n",
       "      <td>0.0</td>\n",
       "      <td>32.7</td>\n",
       "      <td>0.0</td>\n",
       "    </tr>\n",
       "    <tr>\n",
       "      <th>8</th>\n",
       "      <td>4042</td>\n",
       "      <td>218.4</td>\n",
       "      <td>31.2</td>\n",
       "      <td>7.0</td>\n",
       "    </tr>\n",
       "    <tr>\n",
       "      <th>9</th>\n",
       "      <td>4043</td>\n",
       "      <td>180.0</td>\n",
       "      <td>60.0</td>\n",
       "      <td>3.0</td>\n",
       "    </tr>\n",
       "  </tbody>\n",
       "</table>\n",
       "</div>"
      ],
      "text/plain": [
       "   product_id     ca  price  total_sales\n",
       "0        4954  250.0   25.0         10.0\n",
       "1        3847  145.2   24.2          6.0\n",
       "2        3849    0.0   34.3          0.0\n",
       "3        3850    0.0   20.8          0.0\n",
       "4        4032   42.3   14.1          3.0\n",
       "5        4039    0.0   46.0          0.0\n",
       "6        4040    0.0   34.3          0.0\n",
       "7        4041    0.0   32.7          0.0\n",
       "8        4042  218.4   31.2          7.0\n",
       "9        4043  180.0   60.0          3.0"
      ]
     },
     "execution_count": 37,
     "metadata": {},
     "output_type": "execute_result"
    }
   ],
   "source": [
    "# J'ajoute une colonne 'ca' dans laquelle je calcule mon chiffre d'affaire par produit et je réduis l'affichage des colonnes\n",
    "# pour une meilleur lisibilité\n",
    "\n",
    "new_erp['ca'] = new_erp['price']*new_erp['total_sales']\n",
    "new_erp[['product_id','ca','price','total_sales']].head(10)"
   ]
  },
  {
   "cell_type": "code",
   "execution_count": 38,
   "id": "02c1bb0d",
   "metadata": {},
   "outputs": [
    {
     "name": "stdout",
     "output_type": "stream",
     "text": [
      "Le chiffre d'affaire total réalisé en ligne est de 70568.6 €\n"
     ]
    }
   ],
   "source": [
    "# Je calcule le CA total\n",
    "\n",
    "ca_total = new_erp['ca'].sum()\n",
    "print(\"Le chiffre d'affaire total réalisé en ligne est de\",ca_total,\"€\")"
   ]
  },
  {
   "cell_type": "markdown",
   "id": "0007b2f2",
   "metadata": {},
   "source": [
    "**3. Analyse sur les prix des produits**"
   ]
  },
  {
   "cell_type": "code",
   "execution_count": 39,
   "id": "2270107a",
   "metadata": {},
   "outputs": [
    {
     "data": {
      "text/plain": [
       "count    714.000000\n",
       "mean      32.493137\n",
       "std       27.810525\n",
       "min        5.200000\n",
       "25%       14.100000\n",
       "50%       23.550000\n",
       "75%       42.175000\n",
       "max      225.000000\n",
       "Name: price, dtype: float64"
      ]
     },
     "execution_count": 39,
     "metadata": {},
     "output_type": "execute_result"
    }
   ],
   "source": [
    "# Je regarde en détail ma variable prix\n",
    "\n",
    "new_erp['price'].describe()"
   ]
  },
  {
   "cell_type": "markdown",
   "id": "fb81f843",
   "metadata": {},
   "source": [
    "Je choisi ensuite d'afficher la distribution des prix avec l'aide d'un graphique de type boxplot"
   ]
  },
  {
   "cell_type": "code",
   "execution_count": 40,
   "id": "cf878bb3",
   "metadata": {},
   "outputs": [
    {
     "data": {
      "image/png": "[encoded data removed]",
      "text/plain": [
       "<Figure size 720x432 with 1 Axes>"
      ]
     },
     "metadata": {
      "needs_background": "light"
     },
     "output_type": "display_data"
    }
   ],
   "source": [
    "plt.figure(figsize = (10,6))\n",
    "plt.title(\"Variation des prix des produits\", fontsize=18)\n",
    "sns.set_theme(style=\"ticks\", palette=\"bright\")\n",
    "plt.grid(axis='x')\n",
    "sns.boxplot(data=new_erp, x='price', flierprops={\"marker\": \"x\"}, medianprops={\"color\": \"orange\"})\n",
    "plt.show()"
   ]
  },
  {
   "cell_type": "markdown",
   "id": "a4336eb2",
   "metadata": {},
   "source": [
    "Je cherche maintenant à connaître précisement les prix considérés comme aberrants et représentés par des croix sur mon boxplot, ainsi que les produits correspondants. Pour cela je vais utiliser deux méthodes différentes :"
   ]
  },
  {
   "cell_type": "markdown",
   "id": "b151b724",
   "metadata": {},
   "source": [
    "+ La méthode interquartile\n",
    "+ La méthode du z-score"
   ]
  },
  {
   "cell_type": "markdown",
   "id": "5aa16dec",
   "metadata": {},
   "source": [
    "*Méthode interquartile IQR*"
   ]
  },
  {
   "cell_type": "code",
   "execution_count": 41,
   "id": "8f38f5c6",
   "metadata": {},
   "outputs": [
    {
     "name": "stdout",
     "output_type": "stream",
     "text": [
      "75% des prix se trouvent en dessous du 3ème quartile qui est représenté par Q3 = 42.18\n",
      "25% des prix se trouvent en dessous du 1er quartile qui est représenté par Q1 = 14.1\n"
     ]
    }
   ],
   "source": [
    "Q3 = round(np.quantile(new_erp['price'], 0.75),2)\n",
    "Q1 = np.quantile(new_erp['price'], 0.25)\n",
    "print(\"75% des prix se trouvent en dessous du 3ème quartile qui est représenté par Q3 =\",Q3)\n",
    "print(\"25% des prix se trouvent en dessous du 1er quartile qui est représenté par Q1 =\",Q1)"
   ]
  },
  {
   "cell_type": "code",
   "execution_count": 42,
   "id": "a99568b7",
   "metadata": {},
   "outputs": [
    {
     "name": "stdout",
     "output_type": "stream",
     "text": [
      "La distance interquartile est de 28.08\n"
     ]
    }
   ],
   "source": [
    "# Calculons maintenant l'espace interquartile IQR au sein duquel se trouvent 50% des valeurs\n",
    "\n",
    "IQR = Q3 - Q1\n",
    "print(\"La distance interquartile est de\",IQR)"
   ]
  },
  {
   "cell_type": "code",
   "execution_count": 43,
   "id": "cc96aa7f",
   "metadata": {},
   "outputs": [
    {
     "name": "stdout",
     "output_type": "stream",
     "text": [
      "La valeur maximale de notre variable prix (sans les outliers) est de 84.3 €\n"
     ]
    }
   ],
   "source": [
    "# Calculons maintenant la valeur maximale au-delà de laquelle les prix seront considérés comme aberrant car trop \n",
    "# éloignés de l'ensemble des données de prix\n",
    "\n",
    "maximum = Q3 + 1.5 * IQR\n",
    "print(\"La valeur maximale de notre variable prix (sans les outliers) est de\",maximum,\"€\")"
   ]
  },
  {
   "cell_type": "code",
   "execution_count": 44,
   "id": "22b14dec",
   "metadata": {},
   "outputs": [
    {
     "name": "stdout",
     "output_type": "stream",
     "text": [
      "En suivant la méthode interquartile, les différentes valeurs à priori aberrantes en ce qui concerne les prix sont [100.0, 88.4, 225.0, 126.5, 85.6, 176.0, 108.5, 157.0, 104.0, 109.6, 102.3, 137.0, 217.5, 105.0, 105.0, 112.0, 86.8, 92.0, 124.8, 175.0, 191.3, 93.0, 122.0, 114.0, 135.0, 105.6, 116.4, 115.0, 121.0, 99.0, 115.0, 121.0]\n"
     ]
    }
   ],
   "source": [
    "# Maintenant nous pouvons afficher tous les prix considérés comme aberrants, c'est à dire se trouvant au-delà\n",
    "# de cette valeur maximale\n",
    "\n",
    "outliers = []\n",
    "for j in new_erp['price']:\n",
    "    if j > maximum:\n",
    "        outliers.append(j)\n",
    "print(\"En suivant la méthode interquartile, les différentes valeurs à priori aberrantes en ce qui concerne les prix sont\", outliers)"
   ]
  },
  {
   "cell_type": "code",
   "execution_count": 45,
   "id": "61cc355a",
   "metadata": {},
   "outputs": [
    {
     "name": "stdout",
     "output_type": "stream",
     "text": [
      "La méthode interquartile me permet de trouver 32 valeurs aberrantes, allant de 85.6 à 225.0 €\n"
     ]
    }
   ],
   "source": [
    "print(\"La méthode interquartile me permet de trouver\",len(outliers),\"valeurs aberrantes, allant de\",min(outliers),\"à\",max(outliers),\"€\")"
   ]
  },
  {
   "cell_type": "markdown",
   "id": "81be2b05",
   "metadata": {},
   "source": [
    "*Méthode du z-score*"
   ]
  },
  {
   "cell_type": "code",
   "execution_count": 46,
   "id": "8644cc5a",
   "metadata": {},
   "outputs": [
    {
     "name": "stdout",
     "output_type": "stream",
     "text": [
      "La moyenne des prix est 32.49 €\n",
      "L'écart type est de 27.81\n"
     ]
    }
   ],
   "source": [
    "mean = round(new_erp['price'].mean(),2)\n",
    "std = round(new_erp['price'].std(),2)\n",
    "print(\"La moyenne des prix est\",mean,\"€\")\n",
    "print(\"L'écart type est de\",std)"
   ]
  },
  {
   "cell_type": "code",
   "execution_count": 47,
   "id": "5e218ced",
   "metadata": {},
   "outputs": [
    {
     "name": "stdout",
     "output_type": "stream",
     "text": [
      "En utilisant la méthode du z-score, les différentes valeurs à priori aberrantes en ce qui concerne les prix sont [100.0, 88.4, 225.0, 126.5, 176.0, 108.5, 157.0, 104.0, 109.6, 102.3, 137.0, 217.5, 105.0, 105.0, 112.0, 92.0, 124.8, 175.0, 191.3, 93.0, 122.0, 114.0, 135.0, 105.6, 116.4, 115.0, 121.0, 99.0, 115.0, 121.0]\n"
     ]
    }
   ],
   "source": [
    "threshold = 2\n",
    "outlier = []\n",
    "for i in new_erp['price']:\n",
    "    z = (i - mean)/std\n",
    "    if z > threshold:\n",
    "        outlier.append(i)\n",
    "print(\"En utilisant la méthode du z-score, les différentes valeurs à priori aberrantes en ce qui concerne les prix sont\", outlier)"
   ]
  },
  {
   "cell_type": "code",
   "execution_count": 48,
   "id": "c61923cf",
   "metadata": {
    "scrolled": true
   },
   "outputs": [
    {
     "name": "stdout",
     "output_type": "stream",
     "text": [
      "La méthode du z-score me permet de trouver 30 valeurs aberrantes, allant de 88.4 à 225.0 €\n"
     ]
    }
   ],
   "source": [
    "print(\"La méthode du z-score me permet de trouver\",len(outlier),\"valeurs aberrantes, allant de\",min(outlier),\"à\",max(outlier),\"€\")"
   ]
  },
  {
   "cell_type": "code",
   "execution_count": 49,
   "id": "9136a2db",
   "metadata": {
    "scrolled": true
   },
   "outputs": [
    {
     "data": {
      "text/html": [
       "<div>\n",
       "<style scoped>\n",
       "    .dataframe tbody tr th:only-of-type {\n",
       "        vertical-align: middle;\n",
       "    }\n",
       "\n",
       "    .dataframe tbody tr th {\n",
       "        vertical-align: top;\n",
       "    }\n",
       "\n",
       "    .dataframe thead th {\n",
       "        text-align: right;\n",
       "    }\n",
       "</style>\n",
       "<table border=\"1\" class=\"dataframe\">\n",
       "  <thead>\n",
       "    <tr style=\"text-align: right;\">\n",
       "      <th></th>\n",
       "      <th>post_name</th>\n",
       "      <th>price</th>\n",
       "      <th>ca</th>\n",
       "    </tr>\n",
       "  </thead>\n",
       "  <tbody>\n",
       "    <tr>\n",
       "      <th>200</th>\n",
       "      <td>champagne-egly-ouriet-grand-cru-millesime-2008</td>\n",
       "      <td>225.0</td>\n",
       "      <td>1125.0</td>\n",
       "    </tr>\n",
       "    <tr>\n",
       "      <th>426</th>\n",
       "      <td>david-duband-charmes-chambertin-grand-cru-2014</td>\n",
       "      <td>217.5</td>\n",
       "      <td>0.0</td>\n",
       "    </tr>\n",
       "    <tr>\n",
       "      <th>587</th>\n",
       "      <td>coteaux-champenois-egly-ouriet-ambonnay-rouge-...</td>\n",
       "      <td>191.3</td>\n",
       "      <td>573.9</td>\n",
       "    </tr>\n",
       "    <tr>\n",
       "      <th>219</th>\n",
       "      <td>cognac-frapin-vip-xo</td>\n",
       "      <td>176.0</td>\n",
       "      <td>2288.0</td>\n",
       "    </tr>\n",
       "    <tr>\n",
       "      <th>553</th>\n",
       "      <td>camille-giroud-clos-de-vougeot-2016</td>\n",
       "      <td>175.0</td>\n",
       "      <td>0.0</td>\n",
       "    </tr>\n",
       "    <tr>\n",
       "      <th>222</th>\n",
       "      <td>cognac-frapin-chateau-de-fontpinot-1989-20-ans</td>\n",
       "      <td>157.0</td>\n",
       "      <td>0.0</td>\n",
       "    </tr>\n",
       "    <tr>\n",
       "      <th>382</th>\n",
       "      <td>domaine-des-croix-corton-charlemagne-grand-cru...</td>\n",
       "      <td>137.0</td>\n",
       "      <td>685.0</td>\n",
       "    </tr>\n",
       "    <tr>\n",
       "      <th>642</th>\n",
       "      <td>champagne-gosset-celebris-vintage-2007</td>\n",
       "      <td>135.0</td>\n",
       "      <td>270.0</td>\n",
       "    </tr>\n",
       "    <tr>\n",
       "      <th>202</th>\n",
       "      <td>champagne-egly-ouriet-grand-cru-brut-blanc-de-...</td>\n",
       "      <td>126.5</td>\n",
       "      <td>1391.5</td>\n",
       "    </tr>\n",
       "    <tr>\n",
       "      <th>511</th>\n",
       "      <td>domaine-weinbach-gewurztraminer-gc-furstentum-...</td>\n",
       "      <td>124.8</td>\n",
       "      <td>0.0</td>\n",
       "    </tr>\n",
       "    <tr>\n",
       "      <th>603</th>\n",
       "      <td>wemyss-malts-single-cask-scotch-whisky-choc-n-...</td>\n",
       "      <td>122.0</td>\n",
       "      <td>0.0</td>\n",
       "    </tr>\n",
       "    <tr>\n",
       "      <th>654</th>\n",
       "      <td>domaine-des-comtes-lafon-volnay-1er-cru-santen...</td>\n",
       "      <td>121.0</td>\n",
       "      <td>0.0</td>\n",
       "    </tr>\n",
       "    <tr>\n",
       "      <th>657</th>\n",
       "      <td>domaine-des-comtes-lafon-volnay-1er-cru-champa...</td>\n",
       "      <td>121.0</td>\n",
       "      <td>0.0</td>\n",
       "    </tr>\n",
       "    <tr>\n",
       "      <th>648</th>\n",
       "      <td>domaine-clerget-echezeaux-en-orveaux-2015</td>\n",
       "      <td>116.4</td>\n",
       "      <td>0.0</td>\n",
       "    </tr>\n",
       "    <tr>\n",
       "      <th>653</th>\n",
       "      <td>domaine-des-comtes-lafon-volnay-1er-cru-santen...</td>\n",
       "      <td>115.0</td>\n",
       "      <td>230.0</td>\n",
       "    </tr>\n",
       "    <tr>\n",
       "      <th>656</th>\n",
       "      <td>domaine-des-comtes-lafon-volnay-1er-cru-champa...</td>\n",
       "      <td>115.0</td>\n",
       "      <td>0.0</td>\n",
       "    </tr>\n",
       "    <tr>\n",
       "      <th>604</th>\n",
       "      <td>wemyss-malts-single-cask-scotch-whisky-chai-ca...</td>\n",
       "      <td>114.0</td>\n",
       "      <td>0.0</td>\n",
       "    </tr>\n",
       "    <tr>\n",
       "      <th>437</th>\n",
       "      <td>champagne-agrapart-fils-lavizoise-grand-cru-20...</td>\n",
       "      <td>112.0</td>\n",
       "      <td>0.0</td>\n",
       "    </tr>\n",
       "    <tr>\n",
       "      <th>228</th>\n",
       "      <td>chateau-de-puligny-montrachet-1cru-champ-canet...</td>\n",
       "      <td>109.6</td>\n",
       "      <td>0.0</td>\n",
       "    </tr>\n",
       "    <tr>\n",
       "      <th>220</th>\n",
       "      <td>cognac-frapin-fontpinot-xo</td>\n",
       "      <td>108.5</td>\n",
       "      <td>217.0</td>\n",
       "    </tr>\n",
       "    <tr>\n",
       "      <th>647</th>\n",
       "      <td>david-duband-chambolle-musigny-1er-cru-les-sen...</td>\n",
       "      <td>105.6</td>\n",
       "      <td>0.0</td>\n",
       "    </tr>\n",
       "    <tr>\n",
       "      <th>431</th>\n",
       "      <td>domaine-des-comtes-lafon-volnay-1er-cru-santen...</td>\n",
       "      <td>105.0</td>\n",
       "      <td>0.0</td>\n",
       "    </tr>\n",
       "    <tr>\n",
       "      <th>432</th>\n",
       "      <td>domaine-des-comtes-lafon-volnay-1er-cru-santen...</td>\n",
       "      <td>105.0</td>\n",
       "      <td>0.0</td>\n",
       "    </tr>\n",
       "    <tr>\n",
       "      <th>223</th>\n",
       "      <td>cognac-frapin-cigar-blend</td>\n",
       "      <td>104.0</td>\n",
       "      <td>104.0</td>\n",
       "    </tr>\n",
       "    <tr>\n",
       "      <th>381</th>\n",
       "      <td>domaine-des-croix-corton-grand-cru-les-greves-...</td>\n",
       "      <td>102.3</td>\n",
       "      <td>0.0</td>\n",
       "    </tr>\n",
       "    <tr>\n",
       "      <th>64</th>\n",
       "      <td>zind-humbrecht-riesling-gc-rangen-thann-clos-s...</td>\n",
       "      <td>100.0</td>\n",
       "      <td>0.0</td>\n",
       "    </tr>\n",
       "    <tr>\n",
       "      <th>655</th>\n",
       "      <td>domaine-des-comtes-lafon-volnay-1er-cru-champa...</td>\n",
       "      <td>99.0</td>\n",
       "      <td>0.0</td>\n",
       "    </tr>\n",
       "    <tr>\n",
       "      <th>602</th>\n",
       "      <td>wemyss-malts-single-cask-chocolate-moka-cake</td>\n",
       "      <td>93.0</td>\n",
       "      <td>0.0</td>\n",
       "    </tr>\n",
       "    <tr>\n",
       "      <th>502</th>\n",
       "      <td>tempier-bandol-cabassaou-2017</td>\n",
       "      <td>92.0</td>\n",
       "      <td>0.0</td>\n",
       "    </tr>\n",
       "    <tr>\n",
       "      <th>66</th>\n",
       "      <td>zind-humbrecht-pinot-gris-grand-cru-rangen-de-...</td>\n",
       "      <td>88.4</td>\n",
       "      <td>0.0</td>\n",
       "    </tr>\n",
       "    <tr>\n",
       "      <th>438</th>\n",
       "      <td>champagne-agrapart-fils-mineral-extra-brut-bla...</td>\n",
       "      <td>86.8</td>\n",
       "      <td>0.0</td>\n",
       "    </tr>\n",
       "    <tr>\n",
       "      <th>206</th>\n",
       "      <td>champagne-larmandier-bernier-grand-cru-vieille...</td>\n",
       "      <td>85.6</td>\n",
       "      <td>85.6</td>\n",
       "    </tr>\n",
       "  </tbody>\n",
       "</table>\n",
       "</div>"
      ],
      "text/plain": [
       "                                             post_name  price      ca\n",
       "200     champagne-egly-ouriet-grand-cru-millesime-2008  225.0  1125.0\n",
       "426     david-duband-charmes-chambertin-grand-cru-2014  217.5     0.0\n",
       "587  coteaux-champenois-egly-ouriet-ambonnay-rouge-...  191.3   573.9\n",
       "219                               cognac-frapin-vip-xo  176.0  2288.0\n",
       "553                camille-giroud-clos-de-vougeot-2016  175.0     0.0\n",
       "222     cognac-frapin-chateau-de-fontpinot-1989-20-ans  157.0     0.0\n",
       "382  domaine-des-croix-corton-charlemagne-grand-cru...  137.0   685.0\n",
       "642             champagne-gosset-celebris-vintage-2007  135.0   270.0\n",
       "202  champagne-egly-ouriet-grand-cru-brut-blanc-de-...  126.5  1391.5\n",
       "511  domaine-weinbach-gewurztraminer-gc-furstentum-...  124.8     0.0\n",
       "603  wemyss-malts-single-cask-scotch-whisky-choc-n-...  122.0     0.0\n",
       "654  domaine-des-comtes-lafon-volnay-1er-cru-santen...  121.0     0.0\n",
       "657  domaine-des-comtes-lafon-volnay-1er-cru-champa...  121.0     0.0\n",
       "648          domaine-clerget-echezeaux-en-orveaux-2015  116.4     0.0\n",
       "653  domaine-des-comtes-lafon-volnay-1er-cru-santen...  115.0   230.0\n",
       "656  domaine-des-comtes-lafon-volnay-1er-cru-champa...  115.0     0.0\n",
       "604  wemyss-malts-single-cask-scotch-whisky-chai-ca...  114.0     0.0\n",
       "437  champagne-agrapart-fils-lavizoise-grand-cru-20...  112.0     0.0\n",
       "228  chateau-de-puligny-montrachet-1cru-champ-canet...  109.6     0.0\n",
       "220                         cognac-frapin-fontpinot-xo  108.5   217.0\n",
       "647  david-duband-chambolle-musigny-1er-cru-les-sen...  105.6     0.0\n",
       "431  domaine-des-comtes-lafon-volnay-1er-cru-santen...  105.0     0.0\n",
       "432  domaine-des-comtes-lafon-volnay-1er-cru-santen...  105.0     0.0\n",
       "223                          cognac-frapin-cigar-blend  104.0   104.0\n",
       "381  domaine-des-croix-corton-grand-cru-les-greves-...  102.3     0.0\n",
       "64   zind-humbrecht-riesling-gc-rangen-thann-clos-s...  100.0     0.0\n",
       "655  domaine-des-comtes-lafon-volnay-1er-cru-champa...   99.0     0.0\n",
       "602       wemyss-malts-single-cask-chocolate-moka-cake   93.0     0.0\n",
       "502                      tempier-bandol-cabassaou-2017   92.0     0.0\n",
       "66   zind-humbrecht-pinot-gris-grand-cru-rangen-de-...   88.4     0.0\n",
       "438  champagne-agrapart-fils-mineral-extra-brut-bla...   86.8     0.0\n",
       "206  champagne-larmandier-bernier-grand-cru-vieille...   85.6    85.6"
      ]
     },
     "execution_count": 49,
     "metadata": {},
     "output_type": "execute_result"
    }
   ],
   "source": [
    "# Regardons maintenant à quels produits correspondent ces valeurs considérées comme aberrantes\n",
    "\n",
    "produits_chers = new_erp.loc[new_erp['price'] >= maximum,['post_name','price','ca']]\n",
    "produits_chers.sort_values('price',ascending=False).head(32)\n"
   ]
  },
  {
   "cell_type": "markdown",
   "id": "24a404cb",
   "metadata": {},
   "source": [
    ">Au vu des produits concernés, le prix semble justifié. \n",
    "Il ne s'agit donc pas de valeurs aberrantes."
   ]
  },
  {
   "cell_type": "markdown",
   "id": "2d03d617",
   "metadata": {},
   "source": [
    "Poussons un peu l'analyse et regardons quel est le poids des vins les plus chers dans le CA total"
   ]
  },
  {
   "cell_type": "code",
   "execution_count": 50,
   "id": "430184b1",
   "metadata": {},
   "outputs": [
    {
     "name": "stdout",
     "output_type": "stream",
     "text": [
      "Le chiffre d'affaire des vins les plus onéreux s'élève à 6970.0 €\n"
     ]
    }
   ],
   "source": [
    "# Calcul du CA pour les vins les plus chers\n",
    "\n",
    "ca_produits_chers = produits_chers['ca'].sum()\n",
    "print(\"Le chiffre d'affaire des vins les plus onéreux s'élève à\",ca_produits_chers,\"€\")"
   ]
  },
  {
   "cell_type": "code",
   "execution_count": 51,
   "id": "5fd76a69",
   "metadata": {},
   "outputs": [
    {
     "name": "stdout",
     "output_type": "stream",
     "text": [
      "Le chiffre d'affaire des vins les plus chers représente 9.9 % du chiffre d'affaire total.\n"
     ]
    }
   ],
   "source": [
    "pourcentage_ca_produits_chers = round(ca_produits_chers/ca_total*100,1)\n",
    "print(\"Le chiffre d'affaire des vins les plus chers représente\",pourcentage_ca_produits_chers,\"% du chiffre d'affaire total.\")"
   ]
  },
  {
   "cell_type": "markdown",
   "id": "71743e5a",
   "metadata": {},
   "source": [
    "Enfin, regardons le nombre de ventes en fonction du prix des produits et le chiffre d'affaire correspondant"
   ]
  },
  {
   "cell_type": "code",
   "execution_count": 52,
   "id": "cb5bd687",
   "metadata": {},
   "outputs": [
    {
     "data": {
      "image/png": "[encoded data removed]",
      "text/plain": [
       "<Figure size 1008x432 with 1 Axes>"
      ]
     },
     "metadata": {},
     "output_type": "display_data"
    }
   ],
   "source": [
    "plt.figure(figsize = (14,6))\n",
    "plt.title(\"Nombre de ventes en fonction du prix des produits\", fontsize=18)\n",
    "sns.set_theme(style=\"darkgrid\")\n",
    "sns.scatterplot(data=new_erp, x=\"price\",y=\"total_sales\", hue=\"ca\", marker=\"D\", size='ca')\n",
    "plt.show()"
   ]
  },
  {
   "cell_type": "code",
   "execution_count": 53,
   "id": "1cc54432",
   "metadata": {},
   "outputs": [
    {
     "data": {
      "text/html": [
       "<div>\n",
       "<style scoped>\n",
       "    .dataframe tbody tr th:only-of-type {\n",
       "        vertical-align: middle;\n",
       "    }\n",
       "\n",
       "    .dataframe tbody tr th {\n",
       "        vertical-align: top;\n",
       "    }\n",
       "\n",
       "    .dataframe thead th {\n",
       "        text-align: right;\n",
       "    }\n",
       "</style>\n",
       "<table border=\"1\" class=\"dataframe\">\n",
       "  <thead>\n",
       "    <tr style=\"text-align: right;\">\n",
       "      <th></th>\n",
       "      <th>product_id</th>\n",
       "      <th>sku</th>\n",
       "      <th>price</th>\n",
       "      <th>post_name</th>\n",
       "      <th>stock_status</th>\n",
       "      <th>total_sales</th>\n",
       "      <th>stock_quantity</th>\n",
       "      <th>ca</th>\n",
       "    </tr>\n",
       "  </thead>\n",
       "  <tbody>\n",
       "    <tr>\n",
       "      <th>195</th>\n",
       "      <td>4334</td>\n",
       "      <td>7818</td>\n",
       "      <td>49.0</td>\n",
       "      <td>champagne-gosset-grand-blanc-de-blanc</td>\n",
       "      <td>outofstock</td>\n",
       "      <td>96.0</td>\n",
       "      <td>0</td>\n",
       "      <td>4704.0</td>\n",
       "    </tr>\n",
       "    <tr>\n",
       "      <th>72</th>\n",
       "      <td>4144</td>\n",
       "      <td>1662</td>\n",
       "      <td>49.0</td>\n",
       "      <td>champagne-gosset-grand-rose</td>\n",
       "      <td>instock</td>\n",
       "      <td>87.0</td>\n",
       "      <td>11</td>\n",
       "      <td>4263.0</td>\n",
       "    </tr>\n",
       "  </tbody>\n",
       "</table>\n",
       "</div>"
      ],
      "text/plain": [
       "     product_id   sku  price                              post_name  \\\n",
       "195        4334  7818   49.0  champagne-gosset-grand-blanc-de-blanc   \n",
       "72         4144  1662   49.0            champagne-gosset-grand-rose   \n",
       "\n",
       "    stock_status  total_sales  stock_quantity      ca  \n",
       "195   outofstock         96.0               0  4704.0  \n",
       "72       instock         87.0              11  4263.0  "
      ]
     },
     "execution_count": 53,
     "metadata": {},
     "output_type": "execute_result"
    }
   ],
   "source": [
    "# Regardons d'un peu plus près ces deux produits générant plus de 4000€ de chiffre d'affaire\n",
    "\n",
    "plus_gros_ca = new_erp.sort_values(['ca'],ascending=False)\n",
    "plus_gros_ca[['product_id','sku','price','post_name','stock_status','total_sales','stock_quantity','ca']].head(2)"
   ]
  },
  {
   "cell_type": "markdown",
   "id": "69967f94",
   "metadata": {},
   "source": [
    ">On constate en regardant l'état des stocks des deux produits générant les plus gros CA, qu'il est urgent de les avoir à nouveau en stock. "
   ]
  }
 ],
 "metadata": {
  "kernelspec": {
   "display_name": "Python 3 (ipykernel)",
   "language": "python",
   "name": "python3"
  },
  "language_info": {
   "codemirror_mode": {
    "name": "ipython",
    "version": 3
   },
   "file_extension": ".py",
   "mimetype": "text/x-python",
   "name": "python",
   "nbconvert_exporter": "python",
   "pygments_lexer": "ipython3",
   "version": "3.9.12"
  }
 },
 "nbformat": 4,
 "nbformat_minor": 5
}
